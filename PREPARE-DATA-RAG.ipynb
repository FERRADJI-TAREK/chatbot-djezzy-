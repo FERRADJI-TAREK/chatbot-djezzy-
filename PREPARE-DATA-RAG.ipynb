{
  "cells": [
    {
      "cell_type": "markdown",
      "metadata": {
        "id": "tYpIzXEtJil3"
      },
      "source": [
        "## PREPARING DATA FOR RAG"
      ]
    },
    {
      "cell_type": "markdown",
      "metadata": {
        "id": "-cMlFE7xBHC7"
      },
      "source": [
        "# installation de tous les packages requis\n",
        "\n"
      ]
    },
    {
      "cell_type": "code",
      "execution_count": null,
      "metadata": {
        "id": "slRUF08dmdvu"
      },
      "outputs": [],
      "source": [
        "%%capture\n",
        "!pip install -U bitsandbytes\n",
        "!pip install -U peft\n",
        "!pip install -U accelerate\n",
        "!pip install -U trl\n",
        "!pip install datasets==2.16.0\n",
        "!pip install sentencepiece\n",
        "!pip install -q -U git+https://github.com/huggingface/transformers.git\n",
        "!pip install \"torch>=2.1.1\" -U"
      ]
    },
    {
      "cell_type": "code",
      "execution_count": null,
      "metadata": {
        "colab": {
          "base_uri": "https://localhost:8080/"
        },
        "id": "XJDK8oLdmrQG",
        "outputId": "eca1f584-060a-4dfa-89d9-52b44a2a1cba"
      },
      "outputs": [
        {
          "name": "stdout",
          "output_type": "stream",
          "text": [
            "\u001b[?25l     \u001b[90m━━━━━━━━━━━━━━━━━━━━━━━━━━━━━━━━━━━━━━━━\u001b[0m \u001b[32m0.0/46.0 kB\u001b[0m \u001b[31m?\u001b[0m eta \u001b[36m-:--:--\u001b[0m\r\u001b[2K     \u001b[91m━━━━━━━━━━━━━━━━━\u001b[0m\u001b[91m╸\u001b[0m\u001b[90m━━━━━━━━━━━━━━━━━━━━━━\u001b[0m \u001b[32m20.5/46.0 kB\u001b[0m \u001b[31m787.8 kB/s\u001b[0m eta \u001b[36m0:00:01\u001b[0m\r\u001b[2K     \u001b[90m━━━━━━━━━━━━━━━━━━━━━━━━━━━━━━━━━━━━━━━━\u001b[0m \u001b[32m46.0/46.0 kB\u001b[0m \u001b[31m810.5 kB/s\u001b[0m eta \u001b[36m0:00:00\u001b[0m\n",
            "\u001b[?25h\u001b[31mERROR: pip's dependency resolver does not currently take into account all the packages that are installed. This behaviour is the source of the following dependency conflicts.\n",
            "fastapi-cli 0.0.4 requires typer>=0.12.3, but you have typer 0.9.4 which is incompatible.\u001b[0m\u001b[31m\n",
            "\u001b[0m\u001b[31mERROR: pip's dependency resolver does not currently take into account all the packages that are installed. This behaviour is the source of the following dependency conflicts.\n",
            "argilla 1.29.0 requires typer<0.10.0,>=0.6.0, but you have typer 0.12.3 which is incompatible.\n",
            "spacy 3.7.4 requires typer<0.10.0,>=0.3.0, but you have typer 0.12.3 which is incompatible.\n",
            "weasel 0.3.4 requires typer<0.10.0,>=0.3.0, but you have typer 0.12.3 which is incompatible.\u001b[0m\u001b[31m\n",
            "\u001b[0m"
          ]
        }
      ],
      "source": [
        "!pip install -q python-dotenv==1.0.0\n",
        "\n",
        "!pip install -q pandas==1.5.3\n",
        "!pip install -q pypdf==3.12.0\n",
        "!pip install -q jq==1.4.1\n",
        "!pip install -q nltk==3.8.1\n",
        "!pip install -q tiktoken==0.4.0\n",
        "!pip install -q  sentencepiece==0.1.99\n",
        "!pip install -q sentence-transformers==2.2.2\n",
        "!pip install -q cohere==4.11.2\n",
        "!pip install -q faiss-cpu==1.7.4\n",
        "!pip install -q chromadb==0.3.26"
      ]
    },
    {
      "cell_type": "code",
      "execution_count": null,
      "metadata": {
        "colab": {
          "base_uri": "https://localhost:8080/"
        },
        "id": "RuV4JvxhmsLS",
        "outputId": "8423d0a9-f90b-4b6e-ccaf-92da05b668d3"
      },
      "outputs": [
        {
          "name": "stdout",
          "output_type": "stream",
          "text": [
            "Requirement already satisfied: transformers in /usr/local/lib/python3.10/dist-packages (4.42.0.dev0)\n",
            "Requirement already satisfied: filelock in /usr/local/lib/python3.10/dist-packages (from transformers) (3.14.0)\n",
            "Requirement already satisfied: huggingface-hub<1.0,>=0.23.0 in /usr/local/lib/python3.10/dist-packages (from transformers) (0.23.2)\n",
            "Requirement already satisfied: numpy>=1.17 in /usr/local/lib/python3.10/dist-packages (from transformers) (1.25.2)\n",
            "Requirement already satisfied: packaging>=20.0 in /usr/local/lib/python3.10/dist-packages (from transformers) (23.2)\n",
            "Requirement already satisfied: pyyaml>=5.1 in /usr/local/lib/python3.10/dist-packages (from transformers) (6.0.1)\n",
            "Requirement already satisfied: regex!=2019.12.17 in /usr/local/lib/python3.10/dist-packages (from transformers) (2024.5.15)\n",
            "Requirement already satisfied: requests in /usr/local/lib/python3.10/dist-packages (from transformers) (2.32.3)\n",
            "Requirement already satisfied: tokenizers<0.20,>=0.19 in /usr/local/lib/python3.10/dist-packages (from transformers) (0.19.1)\n",
            "Requirement already satisfied: safetensors>=0.4.1 in /usr/local/lib/python3.10/dist-packages (from transformers) (0.4.3)\n",
            "Requirement already satisfied: tqdm>=4.27 in /usr/local/lib/python3.10/dist-packages (from transformers) (4.66.4)\n",
            "Requirement already satisfied: fsspec>=2023.5.0 in /usr/local/lib/python3.10/dist-packages (from huggingface-hub<1.0,>=0.23.0->transformers) (2023.6.0)\n",
            "Requirement already satisfied: typing-extensions>=3.7.4.3 in /usr/local/lib/python3.10/dist-packages (from huggingface-hub<1.0,>=0.23.0->transformers) (4.12.1)\n",
            "Requirement already satisfied: charset-normalizer<4,>=2 in /usr/local/lib/python3.10/dist-packages (from requests->transformers) (3.3.2)\n",
            "Requirement already satisfied: idna<4,>=2.5 in /usr/local/lib/python3.10/dist-packages (from requests->transformers) (3.7)\n",
            "Requirement already satisfied: urllib3<3,>=1.21.1 in /usr/local/lib/python3.10/dist-packages (from requests->transformers) (2.0.7)\n",
            "Requirement already satisfied: certifi>=2017.4.17 in /usr/local/lib/python3.10/dist-packages (from requests->transformers) (2024.6.2)\n"
          ]
        }
      ],
      "source": [
        "!pip install transformers"
      ]
    },
    {
      "cell_type": "code",
      "execution_count": null,
      "metadata": {
        "colab": {
          "base_uri": "https://localhost:8080/"
        },
        "id": "6BlhUKn1BtH7",
        "outputId": "ccaaeb80-1f50-4f1b-c782-9e2448819cf5"
      },
      "outputs": [
        {
          "name": "stdout",
          "output_type": "stream",
          "text": [
            "Requirement already satisfied: langchain in /usr/local/lib/python3.10/dist-packages (0.2.3)\n",
            "Requirement already satisfied: PyYAML>=5.3 in /usr/local/lib/python3.10/dist-packages (from langchain) (6.0.1)\n",
            "Requirement already satisfied: SQLAlchemy<3,>=1.4 in /usr/local/lib/python3.10/dist-packages (from langchain) (2.0.30)\n",
            "Requirement already satisfied: aiohttp<4.0.0,>=3.8.3 in /usr/local/lib/python3.10/dist-packages (from langchain) (3.9.5)\n",
            "Requirement already satisfied: async-timeout<5.0.0,>=4.0.0 in /usr/local/lib/python3.10/dist-packages (from langchain) (4.0.3)\n",
            "Requirement already satisfied: langchain-core<0.3.0,>=0.2.0 in /usr/local/lib/python3.10/dist-packages (from langchain) (0.2.5)\n",
            "Requirement already satisfied: langchain-text-splitters<0.3.0,>=0.2.0 in /usr/local/lib/python3.10/dist-packages (from langchain) (0.2.1)\n",
            "Requirement already satisfied: langsmith<0.2.0,>=0.1.17 in /usr/local/lib/python3.10/dist-packages (from langchain) (0.1.77)\n",
            "Requirement already satisfied: numpy<2,>=1 in /usr/local/lib/python3.10/dist-packages (from langchain) (1.25.2)\n",
            "Requirement already satisfied: pydantic<3,>=1 in /usr/local/lib/python3.10/dist-packages (from langchain) (2.7.3)\n",
            "Requirement already satisfied: requests<3,>=2 in /usr/local/lib/python3.10/dist-packages (from langchain) (2.32.3)\n",
            "Requirement already satisfied: tenacity<9.0.0,>=8.1.0 in /usr/local/lib/python3.10/dist-packages (from langchain) (8.3.0)\n",
            "Requirement already satisfied: aiosignal>=1.1.2 in /usr/local/lib/python3.10/dist-packages (from aiohttp<4.0.0,>=3.8.3->langchain) (1.3.1)\n",
            "Requirement already satisfied: attrs>=17.3.0 in /usr/local/lib/python3.10/dist-packages (from aiohttp<4.0.0,>=3.8.3->langchain) (23.2.0)\n",
            "Requirement already satisfied: frozenlist>=1.1.1 in /usr/local/lib/python3.10/dist-packages (from aiohttp<4.0.0,>=3.8.3->langchain) (1.4.1)\n",
            "Requirement already satisfied: multidict<7.0,>=4.5 in /usr/local/lib/python3.10/dist-packages (from aiohttp<4.0.0,>=3.8.3->langchain) (6.0.5)\n",
            "Requirement already satisfied: yarl<2.0,>=1.0 in /usr/local/lib/python3.10/dist-packages (from aiohttp<4.0.0,>=3.8.3->langchain) (1.9.4)\n",
            "Requirement already satisfied: jsonpatch<2.0,>=1.33 in /usr/local/lib/python3.10/dist-packages (from langchain-core<0.3.0,>=0.2.0->langchain) (1.33)\n",
            "Requirement already satisfied: packaging<24.0,>=23.2 in /usr/local/lib/python3.10/dist-packages (from langchain-core<0.3.0,>=0.2.0->langchain) (23.2)\n",
            "Requirement already satisfied: orjson<4.0.0,>=3.9.14 in /usr/local/lib/python3.10/dist-packages (from langsmith<0.2.0,>=0.1.17->langchain) (3.10.4)\n",
            "Requirement already satisfied: annotated-types>=0.4.0 in /usr/local/lib/python3.10/dist-packages (from pydantic<3,>=1->langchain) (0.7.0)\n",
            "Requirement already satisfied: pydantic-core==2.18.4 in /usr/local/lib/python3.10/dist-packages (from pydantic<3,>=1->langchain) (2.18.4)\n",
            "Requirement already satisfied: typing-extensions>=4.6.1 in /usr/local/lib/python3.10/dist-packages (from pydantic<3,>=1->langchain) (4.12.1)\n",
            "Requirement already satisfied: charset-normalizer<4,>=2 in /usr/local/lib/python3.10/dist-packages (from requests<3,>=2->langchain) (3.3.2)\n",
            "Requirement already satisfied: idna<4,>=2.5 in /usr/local/lib/python3.10/dist-packages (from requests<3,>=2->langchain) (3.7)\n",
            "Requirement already satisfied: urllib3<3,>=1.21.1 in /usr/local/lib/python3.10/dist-packages (from requests<3,>=2->langchain) (2.0.7)\n",
            "Requirement already satisfied: certifi>=2017.4.17 in /usr/local/lib/python3.10/dist-packages (from requests<3,>=2->langchain) (2024.6.2)\n",
            "Requirement already satisfied: greenlet!=0.4.17 in /usr/local/lib/python3.10/dist-packages (from SQLAlchemy<3,>=1.4->langchain) (3.0.3)\n",
            "Requirement already satisfied: jsonpointer>=1.9 in /usr/local/lib/python3.10/dist-packages (from jsonpatch<2.0,>=1.33->langchain-core<0.3.0,>=0.2.0->langchain) (3.0.0)\n",
            "Requirement already satisfied: langchain-community in /usr/local/lib/python3.10/dist-packages (0.2.4)\n",
            "Requirement already satisfied: PyYAML>=5.3 in /usr/local/lib/python3.10/dist-packages (from langchain-community) (6.0.1)\n",
            "Requirement already satisfied: SQLAlchemy<3,>=1.4 in /usr/local/lib/python3.10/dist-packages (from langchain-community) (2.0.30)\n",
            "Requirement already satisfied: aiohttp<4.0.0,>=3.8.3 in /usr/local/lib/python3.10/dist-packages (from langchain-community) (3.9.5)\n",
            "Requirement already satisfied: dataclasses-json<0.7,>=0.5.7 in /usr/local/lib/python3.10/dist-packages (from langchain-community) (0.6.7)\n",
            "Requirement already satisfied: langchain<0.3.0,>=0.2.0 in /usr/local/lib/python3.10/dist-packages (from langchain-community) (0.2.3)\n",
            "Requirement already satisfied: langchain-core<0.3.0,>=0.2.0 in /usr/local/lib/python3.10/dist-packages (from langchain-community) (0.2.5)\n",
            "Requirement already satisfied: langsmith<0.2.0,>=0.1.0 in /usr/local/lib/python3.10/dist-packages (from langchain-community) (0.1.77)\n",
            "Requirement already satisfied: numpy<2,>=1 in /usr/local/lib/python3.10/dist-packages (from langchain-community) (1.25.2)\n",
            "Requirement already satisfied: requests<3,>=2 in /usr/local/lib/python3.10/dist-packages (from langchain-community) (2.32.3)\n",
            "Requirement already satisfied: tenacity<9.0.0,>=8.1.0 in /usr/local/lib/python3.10/dist-packages (from langchain-community) (8.3.0)\n",
            "Requirement already satisfied: aiosignal>=1.1.2 in /usr/local/lib/python3.10/dist-packages (from aiohttp<4.0.0,>=3.8.3->langchain-community) (1.3.1)\n",
            "Requirement already satisfied: attrs>=17.3.0 in /usr/local/lib/python3.10/dist-packages (from aiohttp<4.0.0,>=3.8.3->langchain-community) (23.2.0)\n",
            "Requirement already satisfied: frozenlist>=1.1.1 in /usr/local/lib/python3.10/dist-packages (from aiohttp<4.0.0,>=3.8.3->langchain-community) (1.4.1)\n",
            "Requirement already satisfied: multidict<7.0,>=4.5 in /usr/local/lib/python3.10/dist-packages (from aiohttp<4.0.0,>=3.8.3->langchain-community) (6.0.5)\n",
            "Requirement already satisfied: yarl<2.0,>=1.0 in /usr/local/lib/python3.10/dist-packages (from aiohttp<4.0.0,>=3.8.3->langchain-community) (1.9.4)\n",
            "Requirement already satisfied: async-timeout<5.0,>=4.0 in /usr/local/lib/python3.10/dist-packages (from aiohttp<4.0.0,>=3.8.3->langchain-community) (4.0.3)\n",
            "Requirement already satisfied: marshmallow<4.0.0,>=3.18.0 in /usr/local/lib/python3.10/dist-packages (from dataclasses-json<0.7,>=0.5.7->langchain-community) (3.21.3)\n",
            "Requirement already satisfied: typing-inspect<1,>=0.4.0 in /usr/local/lib/python3.10/dist-packages (from dataclasses-json<0.7,>=0.5.7->langchain-community) (0.9.0)\n",
            "Requirement already satisfied: langchain-text-splitters<0.3.0,>=0.2.0 in /usr/local/lib/python3.10/dist-packages (from langchain<0.3.0,>=0.2.0->langchain-community) (0.2.1)\n",
            "Requirement already satisfied: pydantic<3,>=1 in /usr/local/lib/python3.10/dist-packages (from langchain<0.3.0,>=0.2.0->langchain-community) (2.7.3)\n",
            "Requirement already satisfied: jsonpatch<2.0,>=1.33 in /usr/local/lib/python3.10/dist-packages (from langchain-core<0.3.0,>=0.2.0->langchain-community) (1.33)\n",
            "Requirement already satisfied: packaging<24.0,>=23.2 in /usr/local/lib/python3.10/dist-packages (from langchain-core<0.3.0,>=0.2.0->langchain-community) (23.2)\n",
            "Requirement already satisfied: orjson<4.0.0,>=3.9.14 in /usr/local/lib/python3.10/dist-packages (from langsmith<0.2.0,>=0.1.0->langchain-community) (3.10.4)\n",
            "Requirement already satisfied: charset-normalizer<4,>=2 in /usr/local/lib/python3.10/dist-packages (from requests<3,>=2->langchain-community) (3.3.2)\n",
            "Requirement already satisfied: idna<4,>=2.5 in /usr/local/lib/python3.10/dist-packages (from requests<3,>=2->langchain-community) (3.7)\n",
            "Requirement already satisfied: urllib3<3,>=1.21.1 in /usr/local/lib/python3.10/dist-packages (from requests<3,>=2->langchain-community) (2.0.7)\n",
            "Requirement already satisfied: certifi>=2017.4.17 in /usr/local/lib/python3.10/dist-packages (from requests<3,>=2->langchain-community) (2024.6.2)\n",
            "Requirement already satisfied: typing-extensions>=4.6.0 in /usr/local/lib/python3.10/dist-packages (from SQLAlchemy<3,>=1.4->langchain-community) (4.12.1)\n",
            "Requirement already satisfied: greenlet!=0.4.17 in /usr/local/lib/python3.10/dist-packages (from SQLAlchemy<3,>=1.4->langchain-community) (3.0.3)\n",
            "Requirement already satisfied: jsonpointer>=1.9 in /usr/local/lib/python3.10/dist-packages (from jsonpatch<2.0,>=1.33->langchain-core<0.3.0,>=0.2.0->langchain-community) (3.0.0)\n",
            "Requirement already satisfied: annotated-types>=0.4.0 in /usr/local/lib/python3.10/dist-packages (from pydantic<3,>=1->langchain<0.3.0,>=0.2.0->langchain-community) (0.7.0)\n",
            "Requirement already satisfied: pydantic-core==2.18.4 in /usr/local/lib/python3.10/dist-packages (from pydantic<3,>=1->langchain<0.3.0,>=0.2.0->langchain-community) (2.18.4)\n",
            "Requirement already satisfied: mypy-extensions>=0.3.0 in /usr/local/lib/python3.10/dist-packages (from typing-inspect<1,>=0.4.0->dataclasses-json<0.7,>=0.5.7->langchain-community) (1.0.0)\n"
          ]
        }
      ],
      "source": [
        "!pip install langchain\n",
        "!pip install langchain-community"
      ]
    },
    {
      "cell_type": "markdown",
      "metadata": {
        "id": "ok4YV7OfBeLC"
      },
      "source": [
        "# Import all required libraries"
      ]
    },
    {
      "cell_type": "code",
      "execution_count": null,
      "metadata": {
        "colab": {
          "base_uri": "https://localhost:8080/"
        },
        "id": "BMR3R_5Vmxe7",
        "outputId": "96d08ca4-0c7d-45b5-fd3a-aecc65db51e7"
      },
      "outputs": [
        {
          "name": "stderr",
          "output_type": "stream",
          "text": [
            "No CUDA runtime is found, using CUDA_HOME='/usr/local/cuda'\n"
          ]
        }
      ],
      "source": [
        "from transformers import AutoModelForCausalLM, AutoTokenizer, BitsAndBytesConfig,HfArgumentParser,TrainingArguments,pipeline, logging\n",
        "from peft import LoraConfig, PeftModel, prepare_model_for_kbit_training, get_peft_model\n",
        "import os,torch\n",
        "from datasets import load_dataset\n",
        "from trl import SFTTrainer\n",
        "import pandas as pd\n",
        "import pyarrow as pa\n",
        "import pyarrow.dataset as ds\n",
        "from datasets import Dataset\n",
        "import re\n",
        "import pandas as pd\n",
        "import os"
      ]
    },
    {
      "cell_type": "markdown",
      "metadata": {
        "id": "xpsqMlifB7ED"
      },
      "source": [
        " load the pdf that contains our data"
      ]
    },
    {
      "cell_type": "code",
      "execution_count": null,
      "metadata": {
        "id": "Fju6Ih_LnDai"
      },
      "outputs": [],
      "source": [
        "from langchain.document_loaders import PyPDFLoader\n",
        "llm_loader = PyPDFLoader(\"/content/A propos de Djezzy (27).pdf\")\n",
        "pages = llm_loader.load_and_split()"
      ]
    },
    {
      "cell_type": "markdown",
      "metadata": {},
      "source": [
        "CHUNKING"
      ]
    },
    {
      "cell_type": "markdown",
      "metadata": {
        "id": "ETOnGPrdDbgG"
      },
      "source": [
        "divide our pdf into pieces of document each piece contains a paragraph that talks about an offer or a service (in our pdf we put a separator between the paragraphs)"
      ]
    },
    {
      "cell_type": "code",
      "execution_count": null,
      "metadata": {
        "colab": {
          "base_uri": "https://localhost:8080/"
        },
        "id": "9vZw21xnnEC5",
        "outputId": "db27f4e3-3dd2-421a-d556-f48dc9e04ef8"
      },
      "outputs": [
        {
          "name": "stderr",
          "output_type": "stream",
          "text": [
            "[nltk_data] Downloading package punkt to /root/nltk_data...\n",
            "[nltk_data]   Package punkt is already up-to-date!\n"
          ]
        }
      ],
      "source": [
        "from langchain.text_splitter import CharacterTextSplitter\n",
        "import nltk\n",
        "nltk.download('punkt')\n",
        "\n",
        "text_splitter = CharacterTextSplitter(\n",
        "    separator=\"separatoor\",\n",
        "    is_separator_regex=False,\n",
        "    # Use the separator of your choice\n",
        "    chunk_size=200,\n",
        "    chunk_overlap=0\n",
        ")"
      ]
    },
    {
      "cell_type": "markdown",
      "metadata": {
        "id": "024EP38tEe_t"
      },
      "source": [
        "In our RAG system, each document fragment contains the text of the paragraph as well as metadata, which serves as a key or title for that document. We have assigned metadata to each paragraph so that when keywords are captured in the user's question, we can directly retrieve the paragraphs corresponding to those keywords, which saves a lot of time."
      ]
    },
    {
      "cell_type": "code",
      "execution_count": null,
      "metadata": {
        "colab": {
          "base_uri": "https://localhost:8080/"
        },
        "id": "yZR9lMdonH_7",
        "outputId": "112717c2-af00-4968-c2fc-fb6228263908"
      },
      "outputs": [
        {
          "name": "stdout",
          "output_type": "stream",
          "text": [
            "A propos de djezzy\n",
            "A propos de djezzy\n",
            "A propos de djezzy\n",
            "A propos de djezzy\n",
            "A propos de djezzy\n",
            "A propos de djezzy\n",
            "A propos de djezzy\n",
            "A propos de djezzy\n",
            "A propos de djezzy\n",
            "A propos de djezzy\n",
            "A propos de djezzy\n",
            "A propos de djezzy\n",
            "A propos de djezzy\n",
            "A propos de djezzy\n",
            "A propos de djezzy\n",
            "A propos de djezzy\n",
            "A propos de djezzy\n",
            "A propos de djezzy\n",
            "A propos de djezzy\n",
            "A propos de djezzy\n",
            "A propos de djezzy\n",
            "scoop\n",
            "E facture\n",
            "verso+\n",
            "parental control\n",
            "english learning\n",
            "sms 3lik\n",
            "callback relay\n",
            "B2mail\n",
            "tranquilo\n",
            "double call\n",
            "bank transfer\n",
            "roaming\n",
            "golden\n",
            "personal account\n",
            "*777#\n",
            "scoop ramadan\n",
            "ranati ramadan\n",
            "nokta\n",
            "VRxperience\n",
            "anghami\n",
            "youscribe\n",
            "premium gaming\n",
            "clip+\n",
            "red list\n",
            "conference call\n",
            "international service\n",
            "E flexy\n",
            "recharge djezzy\n",
            "flexy\n",
            "flexily\n",
            "legend\n",
            "zid\n",
            "3ayla\n",
            "comfort partage\n",
            "comfort\n",
            "Maxi\n",
            "special\n",
            "bezzaf\n",
            "izzy\n",
            "tunisia\n",
            "hadj\n",
            "internet access\n",
            "BIP SMS\n",
            "phishing\n",
            "facebook flex\n",
            "A propos de djezzy\n",
            "A propos de djezzy\n",
            "A propos de djezzy\n",
            "A propos de djezzy\n",
            "A propos de djezzy\n",
            "A propos de djezzy\n",
            "A propos de djezzy\n",
            "A propos de djezzy\n",
            "A propos de djezzy\n",
            "A propos de djezzy\n",
            "A propos de djezzy\n",
            "A propos de djezzy\n",
            "A propos de djezzy\n",
            "A propos de djezzy\n",
            "A propos de djezzy\n",
            "A propos de djezzy\n",
            "A propos de djezzy\n",
            "A propos de djezzy\n",
            "A propos de djezzy\n",
            "A propos de djezzy\n",
            "A propos de djezzy\n",
            "A propos de djezzy\n",
            "A propos de djezzy\n",
            "A propos de djezzy\n",
            "A propos de djezzy\n",
            "A propos de djezzy\n",
            "A propos de djezzy\n",
            "A propos de djezzy\n",
            "A propos de djezzy\n",
            "A propos de djezzy\n",
            "A propos de djezzy\n",
            "A propos de djezzy\n",
            "A propos de djezzy\n",
            "A propos de djezzy\n",
            "A propos de djezzy\n",
            "A propos de djezzy\n",
            "A propos de djezzy\n",
            "A propos de djezzy\n",
            "A propos de djezzy\n",
            "A propos de djezzy\n",
            "A propos de djezzy\n",
            "A propos de djezzy\n",
            "['A propos de djezzy', 'A propos de djezzy', 'A propos de djezzy', 'A propos de djezzy', 'A propos de djezzy', 'A propos de djezzy', 'A propos de djezzy', 'A propos de djezzy', 'A propos de djezzy', 'A propos de djezzy', 'A propos de djezzy', 'A propos de djezzy', 'A propos de djezzy', 'A propos de djezzy', 'A propos de djezzy', 'A propos de djezzy', 'A propos de djezzy', 'A propos de djezzy', 'A propos de djezzy', 'A propos de djezzy', 'A propos de djezzy', 'scoop', 'E facture', 'verso+', 'parental control', 'english learning', 'sms 3lik', 'callback relay', 'B2mail', 'tranquilo', 'double call', 'bank transfer', 'roaming', 'golden', 'personal account', '*777#', 'scoop ramadan', 'ranati ramadan', 'nokta', 'VRxperience', 'anghami', 'youscribe', 'premium gaming', 'clip+', 'red list', 'conference call', 'international service', 'E flexy', 'recharge djezzy', 'flexy', 'flexily', 'legend', 'zid', '3ayla', 'comfort partage', 'comfort', 'Maxi', 'special', 'bezzaf', 'izzy', 'tunisia', 'hadj', 'internet access', 'BIP SMS', 'phishing', 'facebook flex', 'A propos de djezzy', 'A propos de djezzy', 'A propos de djezzy', 'A propos de djezzy', 'A propos de djezzy', 'A propos de djezzy', 'A propos de djezzy', 'A propos de djezzy', 'A propos de djezzy', 'A propos de djezzy', 'A propos de djezzy', 'A propos de djezzy', 'A propos de djezzy', 'A propos de djezzy', 'A propos de djezzy', 'A propos de djezzy', 'A propos de djezzy', 'A propos de djezzy', 'A propos de djezzy', 'A propos de djezzy', 'A propos de djezzy', 'A propos de djezzy', 'A propos de djezzy', 'A propos de djezzy', 'A propos de djezzy', 'A propos de djezzy', 'A propos de djezzy', 'A propos de djezzy', 'A propos de djezzy', 'A propos de djezzy', 'A propos de djezzy', 'A propos de djezzy', 'A propos de djezzy', 'A propos de djezzy', 'A propos de djezzy', 'A propos de djezzy', 'A propos de djezzy', 'A propos de djezzy', 'A propos de djezzy', 'A propos de djezzy', 'A propos de djezzy', 'A propos de djezzy']\n"
          ]
        }
      ],
      "source": [
        "#load the document that contains the keywords\n",
        "with open('/content/mots_clés.txt', 'r') as fichier:\n",
        "    contenu = fichier.read()\n",
        "\n",
        "\n",
        "mots = contenu.split(',')\n",
        "\n",
        "for mot in mots:\n",
        "    print(mot.strip())\n",
        "\n",
        "\n",
        "tableau_de_mots = [mot.strip() for mot in mots]\n",
        "\n",
        "\n",
        "print(tableau_de_mots)"
      ]
    },
    {
      "cell_type": "code",
      "execution_count": null,
      "metadata": {
        "colab": {
          "base_uri": "https://localhost:8080/"
        },
        "id": "FHDDjiVuqOpG",
        "outputId": "071de7ab-d801-4726-f243-3f4e04f92366"
      },
      "outputs": [
        {
          "data": {
            "text/plain": [
              "108"
            ]
          },
          "execution_count": 10,
          "metadata": {},
          "output_type": "execute_result"
        }
      ],
      "source": [
        "len(tableau_de_mots)"
      ]
    },
    {
      "cell_type": "code",
      "execution_count": null,
      "metadata": {
        "id": "l3E4AagYnTXc"
      },
      "outputs": [],
      "source": [
        "documents=[\"\".join([pages[i].page_content for i in range(len(pages))])]\n",
        "metadatas = [ {\"document\":mot.strip() }for mot in mots  ]"
      ]
    },
    {
      "cell_type": "code",
      "execution_count": null,
      "metadata": {
        "colab": {
          "base_uri": "https://localhost:8080/"
        },
        "id": "seiikFYknUIl",
        "outputId": "98523878-0fad-4d7a-9bc7-d2470324234c"
      },
      "outputs": [
        {
          "name": "stderr",
          "output_type": "stream",
          "text": [
            "WARNING:langchain_text_splitters.base:Created a chunk of size 1555, which is longer than the specified 200\n",
            "WARNING:langchain_text_splitters.base:Created a chunk of size 818, which is longer than the specified 200\n",
            "WARNING:langchain_text_splitters.base:Created a chunk of size 294, which is longer than the specified 200\n",
            "WARNING:langchain_text_splitters.base:Created a chunk of size 257, which is longer than the specified 200\n",
            "WARNING:langchain_text_splitters.base:Created a chunk of size 1157, which is longer than the specified 200\n",
            "WARNING:langchain_text_splitters.base:Created a chunk of size 1055, which is longer than the specified 200\n",
            "WARNING:langchain_text_splitters.base:Created a chunk of size 638, which is longer than the specified 200\n",
            "WARNING:langchain_text_splitters.base:Created a chunk of size 625, which is longer than the specified 200\n",
            "WARNING:langchain_text_splitters.base:Created a chunk of size 603, which is longer than the specified 200\n",
            "WARNING:langchain_text_splitters.base:Created a chunk of size 820, which is longer than the specified 200\n",
            "WARNING:langchain_text_splitters.base:Created a chunk of size 501, which is longer than the specified 200\n",
            "WARNING:langchain_text_splitters.base:Created a chunk of size 763, which is longer than the specified 200\n",
            "WARNING:langchain_text_splitters.base:Created a chunk of size 425, which is longer than the specified 200\n",
            "WARNING:langchain_text_splitters.base:Created a chunk of size 707, which is longer than the specified 200\n",
            "WARNING:langchain_text_splitters.base:Created a chunk of size 556, which is longer than the specified 200\n",
            "WARNING:langchain_text_splitters.base:Created a chunk of size 769, which is longer than the specified 200\n",
            "WARNING:langchain_text_splitters.base:Created a chunk of size 524, which is longer than the specified 200\n",
            "WARNING:langchain_text_splitters.base:Created a chunk of size 947, which is longer than the specified 200\n",
            "WARNING:langchain_text_splitters.base:Created a chunk of size 605, which is longer than the specified 200\n",
            "WARNING:langchain_text_splitters.base:Created a chunk of size 352, which is longer than the specified 200\n",
            "WARNING:langchain_text_splitters.base:Created a chunk of size 919, which is longer than the specified 200\n",
            "WARNING:langchain_text_splitters.base:Created a chunk of size 1785, which is longer than the specified 200\n",
            "WARNING:langchain_text_splitters.base:Created a chunk of size 1058, which is longer than the specified 200\n",
            "WARNING:langchain_text_splitters.base:Created a chunk of size 1538, which is longer than the specified 200\n",
            "WARNING:langchain_text_splitters.base:Created a chunk of size 1177, which is longer than the specified 200\n",
            "WARNING:langchain_text_splitters.base:Created a chunk of size 1320, which is longer than the specified 200\n",
            "WARNING:langchain_text_splitters.base:Created a chunk of size 1335, which is longer than the specified 200\n",
            "WARNING:langchain_text_splitters.base:Created a chunk of size 920, which is longer than the specified 200\n",
            "WARNING:langchain_text_splitters.base:Created a chunk of size 1104, which is longer than the specified 200\n",
            "WARNING:langchain_text_splitters.base:Created a chunk of size 1179, which is longer than the specified 200\n",
            "WARNING:langchain_text_splitters.base:Created a chunk of size 1162, which is longer than the specified 200\n",
            "WARNING:langchain_text_splitters.base:Created a chunk of size 842, which is longer than the specified 200\n",
            "WARNING:langchain_text_splitters.base:Created a chunk of size 907, which is longer than the specified 200\n",
            "WARNING:langchain_text_splitters.base:Created a chunk of size 1460, which is longer than the specified 200\n",
            "WARNING:langchain_text_splitters.base:Created a chunk of size 1320, which is longer than the specified 200\n",
            "WARNING:langchain_text_splitters.base:Created a chunk of size 1183, which is longer than the specified 200\n",
            "WARNING:langchain_text_splitters.base:Created a chunk of size 1507, which is longer than the specified 200\n",
            "WARNING:langchain_text_splitters.base:Created a chunk of size 1611, which is longer than the specified 200\n",
            "WARNING:langchain_text_splitters.base:Created a chunk of size 1263, which is longer than the specified 200\n",
            "WARNING:langchain_text_splitters.base:Created a chunk of size 1527, which is longer than the specified 200\n",
            "WARNING:langchain_text_splitters.base:Created a chunk of size 2012, which is longer than the specified 200\n",
            "WARNING:langchain_text_splitters.base:Created a chunk of size 2085, which is longer than the specified 200\n",
            "WARNING:langchain_text_splitters.base:Created a chunk of size 1187, which is longer than the specified 200\n",
            "WARNING:langchain_text_splitters.base:Created a chunk of size 1180, which is longer than the specified 200\n",
            "WARNING:langchain_text_splitters.base:Created a chunk of size 1310, which is longer than the specified 200\n",
            "WARNING:langchain_text_splitters.base:Created a chunk of size 876, which is longer than the specified 200\n",
            "WARNING:langchain_text_splitters.base:Created a chunk of size 955, which is longer than the specified 200\n",
            "WARNING:langchain_text_splitters.base:Created a chunk of size 1626, which is longer than the specified 200\n",
            "WARNING:langchain_text_splitters.base:Created a chunk of size 765, which is longer than the specified 200\n",
            "WARNING:langchain_text_splitters.base:Created a chunk of size 1392, which is longer than the specified 200\n",
            "WARNING:langchain_text_splitters.base:Created a chunk of size 1728, which is longer than the specified 200\n",
            "WARNING:langchain_text_splitters.base:Created a chunk of size 2102, which is longer than the specified 200\n",
            "WARNING:langchain_text_splitters.base:Created a chunk of size 1356, which is longer than the specified 200\n",
            "WARNING:langchain_text_splitters.base:Created a chunk of size 1027, which is longer than the specified 200\n",
            "WARNING:langchain_text_splitters.base:Created a chunk of size 1146, which is longer than the specified 200\n",
            "WARNING:langchain_text_splitters.base:Created a chunk of size 1138, which is longer than the specified 200\n",
            "WARNING:langchain_text_splitters.base:Created a chunk of size 907, which is longer than the specified 200\n",
            "WARNING:langchain_text_splitters.base:Created a chunk of size 1150, which is longer than the specified 200\n",
            "WARNING:langchain_text_splitters.base:Created a chunk of size 1521, which is longer than the specified 200\n",
            "WARNING:langchain_text_splitters.base:Created a chunk of size 959, which is longer than the specified 200\n",
            "WARNING:langchain_text_splitters.base:Created a chunk of size 1122, which is longer than the specified 200\n",
            "WARNING:langchain_text_splitters.base:Created a chunk of size 1686, which is longer than the specified 200\n",
            "WARNING:langchain_text_splitters.base:Created a chunk of size 614, which is longer than the specified 200\n",
            "WARNING:langchain_text_splitters.base:Created a chunk of size 1432, which is longer than the specified 200\n",
            "WARNING:langchain_text_splitters.base:Created a chunk of size 817, which is longer than the specified 200\n",
            "WARNING:langchain_text_splitters.base:Created a chunk of size 883, which is longer than the specified 200\n",
            "WARNING:langchain_text_splitters.base:Created a chunk of size 633, which is longer than the specified 200\n",
            "WARNING:langchain_text_splitters.base:Created a chunk of size 258, which is longer than the specified 200\n",
            "WARNING:langchain_text_splitters.base:Created a chunk of size 215, which is longer than the specified 200\n",
            "WARNING:langchain_text_splitters.base:Created a chunk of size 494, which is longer than the specified 200\n",
            "WARNING:langchain_text_splitters.base:Created a chunk of size 201, which is longer than the specified 200\n",
            "WARNING:langchain_text_splitters.base:Created a chunk of size 220, which is longer than the specified 200\n",
            "WARNING:langchain_text_splitters.base:Created a chunk of size 235, which is longer than the specified 200\n"
          ]
        }
      ],
      "source": [
        "#split our pdf from our data using the text splitter\n",
        "tokens_chunks = text_splitter.create_documents(\n",
        "    documents, metadatas=metadatas\n",
        ")"
      ]
    },
    {
      "cell_type": "markdown",
      "metadata": {
        "id": "_mb57jiqGJ_z"
      },
      "source": [
        "load and use the embedding MODEL"
      ]
    },
    {
      "cell_type": "code",
      "execution_count": null,
      "metadata": {
        "colab": {
          "base_uri": "https://localhost:8080/"
        },
        "id": "JW3dxCtZnWqG",
        "outputId": "d006929b-d7b5-4b19-8216-6f488825b20f"
      },
      "outputs": [
        {
          "name": "stderr",
          "output_type": "stream",
          "text": [
            "/usr/local/lib/python3.10/dist-packages/langchain_core/_api/deprecation.py:119: LangChainDeprecationWarning: The class `HuggingFaceEmbeddings` was deprecated in LangChain 0.2.2 and will be removed in 0.3.0. An updated version of the class exists in the langchain-huggingface package and should be used instead. To use it run `pip install -U langchain-huggingface` and import as `from langchain_huggingface import HuggingFaceEmbeddings`.\n",
            "  warn_deprecated(\n"
          ]
        }
      ],
      "source": [
        "from langchain.embeddings import SentenceTransformerEmbeddings\n",
        "\n",
        "model_name = \"sentence-transformers/all-MiniLM-L6-v2\"\n",
        "\n",
        "embedding_llm = SentenceTransformerEmbeddings(model_name=model_name)"
      ]
    },
    {
      "cell_type": "markdown",
      "metadata": {
        "id": "kR63qX7zGxSg"
      },
      "source": [
        "put the paragraphs divided into a table where each cell of the table contains a paragraph.\n",
        "then using the embedding model we store the paragraph embeddings in a table."
      ]
    },
    {
      "cell_type": "code",
      "execution_count": null,
      "metadata": {
        "id": "XBOvUNd0nahz"
      },
      "outputs": [],
      "source": [
        "docs_text = [ chunk.page_content for chunk in tokens_chunks ]\n",
        "docs_embeddings = embedding_llm.embed_documents(docs_text)"
      ]
    },
    {
      "cell_type": "code",
      "execution_count": null,
      "metadata": {
        "colab": {
          "base_uri": "https://localhost:8080/"
        },
        "id": "SO4ShkBUnfGS",
        "outputId": "d9e6a698-c9ca-4562-ef5f-743967113708"
      },
      "outputs": [
        {
          "name": "stdout",
          "output_type": "stream",
          "text": [
            "page_content='Regarding Djezzy: Djezzy, an Algerian telecommunications \\noperator, was established in July 2001. A leader in the field of \\nmobile telephony, with over 14 million subscribers as of August \\n2022, the company provides a wide  range of services such as \\nprepaid, postpaid, internet , as well as value -added services and \\nSUT. Since July 2022, when Veon signed the deed of assignment \\nof all its shares in the company to the benefit of the National \\nInvestment Fund, Djezzy has become a national company. It is \\nnow owned by the National Inves tment Fund (FNI) with \\n96.57% yo and by Cevital with 3.43%. Therefore, Djezzy is \\ncurrently fully controlled by two Algerian shareholders: the \\nNational Investment Fund (FNI) with 96.57% and Cevital with \\n3.43%. Djezzy GSM has marked several significant milestones \\nthroughout its journey. It all began on July 30, 2001, when the \\noperator obtained its 2G license, thus laying the groundwork for \\nits mobile telephony services in Algeria. Then, on December 2, \\n2013, Djezzy reached a new milestone by obtaining the 3G \\nlicense, introducing packet switching technology and enabling \\nfaster and more reliable internet  transfers. On September 4, \\n2016, the company took another step forward by obtaining the \\n4G license, thus offe ring even higher transmission speeds. More \\nrecently, in July 2022, Djezzy experienced a significant change \\nwith the transfer of the VEON transaction to the National \\nInvestment Fund (FNI) and the Cevital group, marking a \\nsignificant evolution in its journey  and operating model.' metadata={'document': 'A propos de djezzy'}\n",
            "page_content='Company Missions: In order to fulfill its mission, Djezzy is \\ncommitted to:  \\n• Offering the best quality products at competitive prices.  \\n• Deploying state -of-the-art infrastructures.  \\n• Creating the best working and development environment for our \\nemployees.  \\n• Actively contributing to the well -being of Algerians.  \\n• Optimizing value creation for our shareholders through strict \\ncost control.  \\n• Rigorously applying our environmental policy.  \\n• Continuously improving our internal processes in accordance \\nwith our quality policy.  \\nCompany Vision: Djezzy\\'s vision is to be the preferred \\ntelecommunications operator of Algerians, a leader in its market, \\nconstantly bringing value to all its partners. OTA aims to be a \\nreference for its \"customer orientation\", the quality of its work \\nenvir onment.' metadata={'document': 'A propos de djezzy'}\n",
            "page_content='Company Values:  \\n• Collaboration: \"We are more than a team, a big family.\"  \\n• Courage: \"We are challengers, we go where our will leads us.\"  \\n• Innovation: \"It is by innovating that we become and remain \\nleaders.\"  \\n• Integrity: \"We commit to always being honest and transparent.\"' metadata={'document': 'A propos de djezzy'}\n",
            "page_content='Customer Orientation: \"One single motto: the trust of our \\ncustomers.\"' metadata={'document': 'A propos de djezzy'}\n",
            "page_content='Visual Identity of the Company:  \\n1. Logos: There\\'s no specific information provided about logos in \\nthis paragraph.  \\n2. Slogans:  \\n \\no From 2002 to 2013: \"Live life!\"  \\no From 2013 to 2016: \"Welcome the future\"  \\no Since 2016: \"With her, you can!\"' metadata={'document': 'A propos de djezzy'}\n",
            "page_content=\"Organizational Chart of Djezzy: The following figure presents the organizational  \\nchart of Djezzy, highlighting the hierarchical structure of the company, including \\nthe various departments and their relationships. The company's organizational \\nchart illustrates the hierarchical and organizational structure of the company. At \\nthe top of the chart is typically the executive leadership, consisting of the CEO \\nor General Manager, who is responsible for the overall strategic direction of thecompany. Beneath the executive leadership, there may be several functional \\ndepartments or divisions such as operations, marketing, finance, human \\nresources, information technology, and more. Each department is usually led by \\na senior executive or vice pres ident who reports directly to the executive \\nleadership. These departments may in turn be subdivided into teams or specific \\noperational units, led by managers or department heads. The organizational \\nchart also illustrates the hierarchical relationships and functional relationships \\nbetween different parts of the company, providing an overview of how the \\ncompany is structured and managed.\" metadata={'document': 'A propos de djezzy'}\n",
            "page_content=\"Company Issue: The issue at Djezzy lies in the need to optimize the customer \\nexperience while improving the operational efficiency of the company. With a \\ngrowing number of customers and a diversification of services offered, it becomes \\nessential to provide  efficient and prompt customer support to address user \\nrequests and resolve issues. A customer service chatbot could be the ideal solution \\nto meet this challenge. By developing a customized chatbot for Djezzy, we can \\noffer instant 24/7 assistance, reduce c ustomer wait times, provide accurate and \\nconsistent answers, and alleviate the workload of customer service agents. This \\nchatbot could be designed to handle a variety of tasks, such as checking packages, \\nresolving technical issues, providing information on  services and promotions, and \\neven supporting common transactions. By effectively addressing customer needs \\nand improving customer satisfaction, the customer service chatbot could play a \\ncrucial role in Djezzy's continued growth and success in a competitiv e market.\" metadata={'document': 'A propos de djezzy'}\n",
            "page_content='The price of the product OPPO A94 is 53  900 DA.  \\nThe D -Link 921M Router is available at a price of 13 500 DA.  \\nThe product DWR -M920 4G N300 is available at a price of 11 200 DA.  \\nPower Bank DPC65 is available at a price of 9 700 DA.  \\nBOX Home M915V is available at a price of 9500 DA.  \\nEARBUDS REVALEO V6 are available at a price of 6500 DA.  \\nEW39 is available at a price of $5500 DA.  \\nPower Bank DP15 is available at a price of 5 200 DA.  \\nThe product IN CAR FM E62 is available at a price of 4 900 DA  \\nThe price of the product ES61 Mannersport is 4900 DA.The PD30W+C3.0 IN CAR E70 is available at the price of 4 800 DA.' metadata={'document': 'A propos de djezzy'}\n",
            "page_content='E4 is available at a price of 4800 DA.  \\nThe D -Tech 8’’ Tablette is available at a price of 15 500 DA.  \\nD-TECH D6 is available at a price of 14 900 DA.  \\nThe D -Tech 7 Tablet is available at a price of 13 200 DA.  \\nThe D -TECH D6 Mini is available at a price of 11 900 DA.  \\nECOUTEUR E1 is available at a price of 2950 DA.  \\nEW26 ECUs are available at a price of 2900 DA.  \\nE2 is available at a price of 2800 DA.  \\nThe C101A TYPE -C TO IP is available at a price of 2,700 DA.  \\nThe PSLD001 Charger is available at a price of 2,690 DA.  \\nLEL DJAZIRA CHARGER MULTIPLE PSLD001 (DV) is available at the price of 2 690 \\nDA.' metadata={'document': 'A propos de djezzy'}\n",
            "page_content='EW25 ECUs are available at a price of 2,550 DA.  \\nThe CAR HOLDER CA82 is available at a price of 2500 DA.  \\nThe CAR FM Transmitter E59 is available at a price of 2,500 DA.  \\nThe Power Bank DP1 Mini is available at a price of 2500 DA.  \\nThe Power Bank DP10H is available at a price of 2500 DA.  \\nThe M1 Max IP Speakers are available at a price of 2 200 DA.  \\nThe C97A TYPE -C TO TYPE -C is available at a price of 2 200 DA.  \\nThe C80A PLUS TYPE -C TO IP is available at a price of 2 100 DA.  \\nFCLD012 TYPE C is available at a price of 1 900 DA.FCLD 002 C TYPE C is available at a price of 1 900 DA.' metadata={'document': 'A propos de djezzy'}\n",
            "page_content='The FCLD012 MICRO USB is available at a price of 1 850 DA.  \\nC101A TYPE -C TO TYPE -C is available at a price of 1 800 DA.  \\nMagnetic U90 TYPE -C is available at a price of 1 500 DA.  \\nSTEREO M90 earphones are available at a price of 1 500 DA.  \\nSilicone 2,4A X82 IP is available at a price of 1 500 DA.  \\nSilicone 3A X82IP Cable is available at a price of 1 500 DA.  \\nMIC M1 PRO EARPHONES are available at a price of 1 500 DA.  \\nSILICONE 3A X82 is available at a price of 1 500 DA.  \\nCUP CAR HOLDER CA95 is available at a price of 1 800 DA.  \\nFCLD 009 C TYPE C is available at a price of 1 800 DA.  \\nThe FCLD 002 S MICRO USB product is available at a price of 1 800 DA.  \\nThe FCLD 009 S4 MICRO USB product is available at a price of 1 800 DA.  \\nThe product IN -CAR HOLDER CA76 is available at a price of 1 600 DA.' metadata={'document': 'A propos de djezzy'}\n",
            "page_content='M1 PRO speakers are available at a price of 1 500 DA.  \\nThe product FCLD007 is available at a price of 1 450 DA.  \\nMETAL HOLDER CA56 is available at a price of 1 400 DA.  \\nThe product FCLD010 TYPE C is available at a price of 1 350 DA.  \\nThe product CCLD 001C TYPE C is available at a price of 1 350 DA.  \\nThe product LCH -082 TYPE -C is available at a price of 1 300 DA.  \\nThe product CCLD 001C MICRO USB is available at a price of 1 300 DA.  \\nThe product FCLD013 MICRO USB is available at 950 DA.' metadata={'document': 'A propos de djezzy'}\n",
            "page_content='MOUNTCHLD002 is available at 950 DA.  \\nThe Charger C88A TYPE -C is available at 900 DA.  \\nThe Dual Port C88A MICRO is available at 900 DA.  \\nThe product RTC -004 TYPE -C is available at 900 DA.  \\nThe product LCH -086 MICRO USB is available at a price of 1200 DA.  \\nThe product RTC -003 3USB MICRO USB is available at a price of 1200 DA.  \\nProduct CCLD003 TYPE C is available at a price of 1 150 DA.  \\nThe C3,0 C72 MICRO is available at a price of 1 100 DA.  \\nThe C3,0 C72 TYPE -C is available at a price of 1 100 DA.  \\nThe Charger C3,0 C72 is available at a price of 1 100 DA.  \\nThe price of product RCB -007 5A VOOC TYPE C is 800 DA.  \\nThe product TK80 C3 TYPE -C is available at the price of 800 DA.  \\nThe product TK -75 is available at a price of 700 DA.' metadata={'document': 'A propos de djezzy'}\n",
            "page_content='CULD 004 C TYPE C is available at a price of 700 DA.  \\nThe product TK -74 is available at 650 DA.  \\nThe product RCC -004 TYPE C is available at 900 DA.  \\nDUAL -PORT C103A TYPE -C is available at 850 DA.  \\nSingle Port C81A TYPE -C is available at 850 DA.  \\nThe CHARGER PCLD004 is available at 850 DA.  \\nThe RCC -004 MICRO USB is available at a price of 800 DA.  \\nThe RTC -004 MICRO USB is available at a price of 800 DA.' metadata={'document': 'A propos de djezzy'}\n",
            "page_content='The TK80 C3 MICRO USB is available at a price of 800 DA.  \\nThe LCH -219 MICRO USB is available at a price of 1 100 DA.  \\nThe LCH -219 3USB TYPE -C is available at a price of 1 100 DA.  \\nThe CCLD003 MICRO USB is available at a price of 1 100 DA.  \\nThe X85 Type -C TO Type -C is available at a price of 1 000 DA.  \\nFCLD013 TYPE C is available at a price of 1000 DA.  \\nCABLE 3IN1 CULD015 is available at 950 DA.  \\nProduct CULD002 TYPE C is available at 650 DA.  \\nThe product CULD002 MICRO USB is available at a price of 600 DA.  \\nThe product RCB -005 IOS is available at a price of 600 DA.  \\nThe product TK -73 is available at a price of 600 DA.  \\nThe product TK 77 TIPE C is available at a price of 600 DA.' metadata={'document': 'A propos de djezzy'}\n",
            "page_content='The product CULD 004 S MICRO USB is available at a price of 600 DA.  \\nThe product CABLE TK 77 IOS is available at a price of 600 DA.  \\nProduct CULD012 TYPE C is available at a price of 550 DA.  \\nProduct CULD010 TYPE C is available at 550 DA.  \\nProduct CCULD009 TYPE C is available at a price of 550 DA.  \\nProduct RCB -005 TYPE C is available at a price of 500 DA.  \\nThe product LC -927 TYPE C is available at a price of 500 DA.  \\nThe product RCB -003 MICRO USB is available at a price of 500 DA.  \\nCULD 014 C TYPE C is available at a price of 500 DA.' metadata={'document': 'A propos de djezzy'}\n",
            "page_content='The product CCULD009 MICRO USB is available at a price of 500 DA.The product CULD010 MICRO USB is available at a price of 500 DA.  \\nThe product CULD012 MICRO USB is available at a price of 500 DA.  \\nProduct CULD007 TYPE C is available at a price of 500 DA.  \\nThe product CULD007 MICRO USB is available at a price of 450 DA.  \\nThe product CULD 014 S MICRO USB is available at a price of 450 DA.  \\nThe internet cable BX54 TYPE -C is available at a price of 400 DA.  \\nThe X88 Charging Cable is available at a price of 400 DA.  \\nThe BX54 TYPE -C cable is available at a price of 400 DA.  \\nThe product RCB -86 IOS is available at a price of 400 DA.  \\nThe price of product FCLD008 TYPE C is 1 300 DA.  \\nThe product FCLD010 MICRO USB is available at a price of 1 300 DA.' metadata={'document': 'A propos de djezzy'}\n",
            "page_content='The CHARGER FCLD008 is available at a price of 1 250 DA.  \\nLCH-086 C3 3A TYPE -C is available at a price of 1 250 DA.  \\nThe price of RTC -003 3USB TYPE -C is 1 250 DA.  \\nThe LCH -082 MICRO USB is available at a price of 1 250 DA.  \\nLAUX TK 79 is available at the price of 400 DA.  \\nThe product RCB -005 MICRO USB is available at a price of 400 DA.  \\nThe price of the LC -927 MICRO USB is 400 DA.  \\nThe product RCB -86 TYPE C is available at a price of 350 DA.  \\nThe RCB -86 MICRO USB is available at a price of 300 DA.' metadata={'document': 'A propos de djezzy'}\n",
            "page_content='The product OPPO A74 is available at a price of 46,900 DA.  \\nThe D -Tech 10’’ Tablet is available at 18 100 DA.Silicone 3A X86 Type -C is available at a price of 1200 DA.  \\nSilicone 2,4A X86 IP is available at a price of 1200 DA.  \\nThe X76 3in1 Charging Cable is available at a price of 1200 DA.  \\nThe Z40 Superior dual port car is available at a price of 1200 DA.  \\nThe Z40 Dual Port Car Charge is available at a price of 1200 DA.  \\nThe 3A X86 TYPE -C cable is available at a price of 1200 DA.  \\nThe price of the product OPPO A94 is 53,900 DA.  \\nThe Router D -Link 921M product is available at a price of 13 500 DA.  \\nThe price of the product DWR -M920 4G N300 is 11 200 DA.  \\nPower Bank DPC65 is available at a price of 9 700 DA.  \\nBOX Home M915V is available at a price of 9500 DA.  \\nEARBUDS REVALEO V6 are available at a price of 6500 DA.  \\nEW39 is available at a price of $5500 DA.  \\nPower Bank DP15 is available at a price of 5 200 DA.' metadata={'document': 'A propos de djezzy'}\n",
            "page_content='LIN CAR FM E62 is available at a price of 4900 DA.  \\nThe product ES61 Mannersport is available at a price of 4900 DA.  \\nThe PD30W+C3.0 IN CAR E70 is available at the price of 4 800 DA.  \\nE4 is available at a price of 4800 DA.  \\nThe Clé 4G DWR -910M Wifi is available at a price of $4500 DA.  \\nTRUE SPEAKER HC4 is available at a price of $4500 DA.  \\nPWB 20 000 mah J52A is available at a price of 4 300 DA.  \\nThe Charger N13 Type -C TO IP Charger is available at a price of 3800 DA.  \\nThe Power Bank DP20H is available at a price of 3 600 DA.SPORTS BT SPEAKER HC13 is available at a price of 3500 DA.' metadata={'document': 'A propos de djezzy'}\n",
            "page_content='TRUE SPEAKER HC11 is available at a price of 3500 DA.  \\nThe ES51 Era sport earphones are available at a price of 3 500 DA.  \\nSPORTS BT SPEAKER HC13 is available at a price of 3500 DA.  \\nThe E3 ECOUTEUR is available at a price of 3500 DA.  \\nEW27 ECUs are available at a price of 3 400 DA.  \\nThe PSLD002 CHARGEUR is available at a price of 3 000 DA' metadata={'document': 'A propos de djezzy'}\n",
            "page_content=\"Djezzy Scoop offers subscribers a convenient way to stay informed and updated \\nwith new, cultural information, and  weather forecasts directly on their phones via \\nSMS. Subscribing to Djezzy Scoop is simple, as it can be done by calling 404 or \\nsending an SMS  to 404 with the corresponding offer code. Once registered, \\nsubscribers receive a notification SMS confirming their registration, followed by an \\ninformation SMS detailing the service benefits. To deactivate the service, \\nsubscribers can call 404, contact Cl ient Service at 777 or 505, or send an SMS to \\n404 with the deactivation code. It's important to note that no refunds are provided \\nif the subscription is terminated before the end of the month. Overall, Djezzy \\nScoop serves as a valuable tool for subscribers  to receive timely updates and \\ninformation, empowering them to make informed decisions and stay connected to \\nthe world around them.\" metadata={'document': 'scoop'}\n",
            "page_content=\"Djezzy's  E-Facture service provides private payees with a convenient \\nand secure way to pay their bills online via the Mobile Djezzy App and \\nthe website. To utilize the E -Facture service, Djezzy prepaid and \\npostpaid customers must have a bank/monetary card and/or \\nEDAHABIA with current validity, along with a mobile phone running on \\nan Android/iOS operating system with the Djezzy App installed. The \\nbenefits of the E -Facture service for private clients include enhanced \\nsimplicity and convenience, maximum security and c onfidentiality of \\nbank transactions, access to online transaction history, and round -the-\\nclock availability. Payment of invoices via the Djezzy App involves \\ndownloading or updating the application, selecting the invoice and \\npayment amount, choosing the pay ment platform (CIB/EDAHABIA), \\nconfirming payment with an SMS code, and saving the receipt on the \\nmobile phone. On the website's custom interface, users can register orlog in to the E -Facture client, select the invoice, confirm the payment \\namount, choose the payment platform, finalize payment on the \\nbank/post office payment site, confirm payment with the SMS code, and \\nsave or email the payment receipt. The E -Facture clie nt interface offers \\nfeatures such as invoice consultation, payment of invoices, identification \\nof available payment platforms, and validation of payments with \\nreceived SMS codes. Notably, the E -Facture service is free for private \\npayees. To obtain informat ion or lodge a complaint regarding the E -\\nFacture Postpaid Service, users can contact the SATIM Call Centre at \\n3020 or the Djezzy Call Centre at 777 / 0770 85 77 77. Saving the \\npayment receipt/ticket is essential as it serves as tangible and \\nadmissible evid ence in case of any claims.\" metadata={'document': 'E facture'}\n",
            "page_content=\"The VERSO+ service offers users a discreet way to manage their calls and SMS \\nthrough a secondary VERSO+ number, safeguarding the privacy of their primary \\nnumber. With VERSO+, users can seamlessly communicate via calls and SMS to \\nboth national and internati onal networks, expanding their connectivity without \\ncompromising confidentiality. **But what sets VERSO+ apart is its pricing \\nflexibility.** Activation of the VERSO+ service is simple, accessible via a specific \\ncode, and can be set either by default or upo n request. Opting for activation by \\ndefault ensures that the VERSO+ number is displayed for all calls, while activation \\nupon request allows users to choose when to display the VERSO+ number. **And \\nhere's the kicker:** Users have the flexibility to utilize the VERSO+ number for \\neither a 7 -day or 30 -day period, with the cost for 7 days set at an affordable 150 \\nDA. Furthermore, the renewal process for the VERSO+ number for a 30 -day period \\nis automated, ensuring uninterrupted service and seamless communication for \\nusers.\" metadata={'document': 'verso+'}\n",
            "page_content=\"Djezzy's Parental Control service is designed to safeguard children's \\ninternet browsing on mobile devices by restricting access to websites \\ncontaining inappropriate content, particularly those associated with \\nchild sexual risk and adult material. The servi ce offers several benefits, \\nincluding secure internet access for children while allowing full web \\naccessibility within defined boundaries. Activation and deactivation of \\nthe Parental Control service can be accomplished by dialing *707# on \\nthe child's mobil e device and selecting the appropriate options, \\nincluding setting a personalized password for added security. To join the \\nservice, parents need to follow specific steps, including activating the \\nservice, registering a parent's Djezzy number, and confirming  activation \\nwith a passcode. Disabling the Parental Control service involves asimilar process, requiring the parent to use the child's mobile device to \\nenter *707#, select the option to disable the service, enter the password, \\nand confirm deactivation. In cases where password confirmation is \\nneeded, parents can access the Password S ervice by dialing #707# on \\ntheir own mobile device, selecting the appropriate options, and \\nfollowing the instructions to confirm the password. Notably, the classic \\nParental Control service is provided free of charge. This service \\neffectively secures childr en's online navigation by permitting access to \\napproved internet content while blocking access to sites deemed \\ninappropriate for their age group.\" metadata={'document': 'parental control'}\n",
            "page_content='English learning:  \\nDjezzy  provides an accessible and flexible English learning program, \\nencouraging users to dedicate two sessions of 5 to 10 minutes each day \\nfor effective learning. Access to the service is available through various \\nchannels, including the Djezzy App, the mobile web portal, and SMS. \\nSubscriptions can be initiated by simply clicking on the e -learning \\nbanner within the Djezzy App, sending a free SMS to the number 752 \\nwith the requested letter, or using specific keywords in French or \\nArabic. Subscription prices vary,  with options including 25 DA for a \\nmonthly subscription, 90 DA for a weekly subscription, and 300 DA for a \\nmonthly subscription. Access to the mobile web portal and SMS \\nreception to the number 752 is free of charge. To discontinue the \\nservice, users can s end a free SMS with the word STOP in French or قف in \\nArabic to the number 752. Assistance is available by sending a free SMS \\nwith the word AIDE in French or مساعدة  in Arabic to the same number. \\nUsers can also change the language of the service, retrieve fo rgotten \\npasswords, or find the latest question by sending specific codes via SMS \\nto the number 752.' metadata={'document': 'english learning'}\n",
            "page_content='The SMS 3LIK service provided by Djezzy is a convenient feature allowing both \\nprivate and enterprise SMS recipients to send messages to the Djezzy network \\nwithout utilizing their own credit or depleting their balance. This service operates \\nin two distinct modes: AUTOMATIC and MANUAL.  \\n  \\nIn the AUTOMATIC mode, when a user attempts to send an SMS to the Djezzy \\nnetwork with insufficient credit, they are automatically prompted to use the SMS \\n3LIK service. They have the option to either accept or decline this service. If \\naccepted, the recipien t is charged 5 DA and receives the message promptly.Conversely, in the MANUAL mode, users can send an SMS to the Djezzy network \\nfor their intended recipient by dialing the follow -up number 702 followed by the \\nrecipient\\'s number.  \\n  \\nThe SMS 3LIK service is priced at 5 DA per SMS, with each message having a \\nvalidity period of 12 hours. After this duration, the message is automatically \\ndeleted. Each 3LIK message can contain up to 160 characters. Recipients are \\nnotified of an incoming SMS sent via the SMS 3LIK service through a notification \\nmessage, granting them the choice to either accept or reject the message.  \\n  \\nTo decline the SMS 3LIK service in AUTOMATIC mode, users simply need to press \\n\"2\" when prompted to accept or decline the service.' metadata={'document': 'sms 3lik'}\n",
            "page_content=\"The Appel Relay service, also known as Callback Relay, offers users a \\nrange of functionalities for managing their incoming calls. Users can \\nautomatically redirect calls to another mobile number, landline, or \\nvoicemail. Accessing the settings of the Appel R elay service is \\nstraightforward, either through the phone's menu or by dialing into the \\ncall settings. This service provides various callback options, including \\nsystematic replies, non -replies, complaints, unavailability responses, \\ninternet, and fax callba cks. For users requiring active re -routing of calls \\ndue to disability, the process involves dialing **62 550#ok. Cancelling all \\nactive callbacks is easily accomplished by dialing ##002# on the phone's \\nkeyboard. Activation of the Call forwarding service is free of charge. Users \\ncan designate specific callback numbers using appropriate commands. \\nCallbacks can e xist in three states: Defined, Accelerated, and Reverified. \\nThe service allows for redirection of voice calls, internet traffic, and faxes \\nto alternate numbers or voicemail boxes. To activate callback in case of \\nconcern, users dial **67 550#ok, while conditional re -routing to \\nvoicemail is initiated by dialing **21*550#ok. Additionally, users can \\nredirect calls to another number by entering #ok followed by the \\ndesired number.\" metadata={'document': 'callback relay'}\n",
            "page_content=\"The B2Mail service offered by Djezzy is an email billing and control service \\ndesigned for post -paid and control customers. Djezzy's post -paid and control staff \\ncan benefit from this service, allowing them to receive their invoices via email. To \\ninstall the B2Mail service, customers need to visit a Djezzy Call Centre or Agency,verbally submit a request for email receipt of invoices, provide their email address \\nregistered in the Djezzy internet base, and confirm their identity. The email \\naddresses of subscribers are kept strictly confidential to ensure privacy. Once the \\nB2Mail service is installed, subscribers will receive a confirmation call from Djezzy, \\ninforming them about the successful activ ation of the service on their account. \\nSubscribers will start receiving their invoices via email based on the \\ncommunication provided by th e customer service advisor during the installation \\nprocess.\" metadata={'document': 'B2mail'}\n",
            "page_content=\"the Tran quilo service:  \\nPrepaid users can conveniently access the Tran quilo service either \\nthrough the Djezzy Internet application, available on Android and iOS \\nplatforms, or by dialing the USSD code *100# from their mobile device \\nto access the SMS Bip menu. This service provides emergency credit \\noptions to users, including 2 0 DZD with a 24 -hour validity period, as \\nwell as 50 and 100 DZD with a 7 -day validity period. However, if the \\nemergency credit remains unused beyond its validity period, it incurs \\nservice charges and is subsequently canceled. Access to the Tran quilo \\nservic e requires that the user's line be permanently registered on the \\nDjezzy network and be at least 3 months old, with the available credit on \\nthe line being less than 5 DZD. Charges for the Tran quilo service are \\ndeducted from the user's next recharge. This service is designed for \\nRegularly Paid Regulars who find themselves with insufficient balance \\non their account, enabling them to make calls and send SMS even when \\ntheir balance is insufficient t hrough the provision of emergency credit.\" metadata={'document': 'tranquilo'}\n",
            "page_content=\"Djezzy Double call service:  \\nThe Djezzy  Double call service offers a convenient way to manage \\nmultiple calls simultaneously. Users can engage in two conversations \\nconcurrently, with the ability to place one call on hold while conversing \\non another line. When a second call comes in during an ong oing \\nconversation, users have the option to accept the incoming call, which \\nautomatically puts the first call on hold, allowing them to switch \\nbetween callers as needed. Alternatively, declining the second call \\nrequires a double tap on the touchpad. Activa tion of the Double call \\nservice is straightforward, achievable either through the phone menu or \\nby entering the code *43# on the mobile screen, while deactivation can \\nbe accomplished using the code #43# or through the phone menu. It's \\nworth noting that pot ential charges associated with the service depend \\non the user's tariff plan or mobile operator. However, the Double call \\nservice itself is free of charge, and call costs are applied separately based \\non destination and duration. This feature is available to  all Djezzysubscribers, contingent upon their device compatibility and subscription \\nplan.\" metadata={'document': 'double call'}\n",
            "page_content=\"Djezzy's automatic bank transfer service presents several advantages \\nfor its users. Clients enjoy a complimentary service coupled with a 1% \\ndiscount on each invoice, saving time by circumventing the need for a \\nDjezzy CDS, the convenience of making payments  while on the move or \\nabroad, and heightened security with a 20 -day window to review \\ninvoices. Payments through automatic bank transfer are seamlessly \\ndeducted from the client's bank or postal account, eliminating the need \\nfor physical movement. Following the withdrawal of the invoice, the \\ncollection occurs 20 days later, granting clients ample time to verify \\ntheir billing details. To access the service, clients can obtain the \\nregistration form from any Djezzy store nationwide, which they must fill \\nout, sig n, and have countersigned by their bank or postal account. One \\ncopy of the form is then returned to a Djezzy store, while the client \\nretains a copy for their records. Additionally, clients are required to \\ncomplete three copies of the registration form. Des pite registration for \\nautomatic collection, clients will continue to receive their invoices via \\nmail as usual.\" metadata={'document': 'bank transfer'}\n",
            "page_content=\"The Djezzy Roaming service offers a range of conveniences for its users. \\nFor Djezzy Prepay customers, the service, encompassing call reception \\nand sending, SMS exchange, and internet browsing, is automatically \\nactivated. On the other hand, Djezzy Postpay c lients planning \\ninternational travel need to confirm Roaming activation beforehand, \\nwhich may entail making a deposit at a Djezzy boutique. When dialing \\nAlgerian numbers from abroad with Djezzy Roaming, users must \\nprecede the local number with either (+213 ) or (00213). Conversely, \\ncalling foreign numbers from Algeria requires the input of the country's \\ndialing code following the international prefix. The tariff for calls \\nthrough Djezzy Roaming is calculated in Dinar TTC per minute, while \\ninternet usage incu rs a charge of 33 DA TTC for every 20 Ko consumed.\" metadata={'document': 'roaming'}\n",
            "page_content='Djezzy provides users with the option to select their phone number upon the expiry \\nof their SIM card, as long as  the number is not already in use. For postpaid SIM \\ncards, users have the choice between Golden numbers or vacant numbers. To \\nobtain a personalized phone number with Djezzy, individuals need to visit Djezzy \\nservice centers with the necessary SIM card docum ents, typically including an \\nidentity card. While the selection of a vacant number is free of charge, opting for aGolden number incurs a cost of 10000  DA. The selection process is subject to \\navailability and ensures that the chosen number has not been previously assigned. \\nUsers can select specific numbers, such as their anniversary date, if available. To \\nchoose a Golden number, individuals must visit a Djezzy service center and pay the \\nassociated fee. Generally, this option is available for postpaid SIM cards.' metadata={'document': 'golden'}\n",
            "page_content=\"Djezzy's personal account service:  \\nTo reach Djezzy's personal account service, users can dial 777 from either a mobile \\nor fixed phone. Access to the prepaid menu is as simple as dialing the toll -free \\nnumber 700. Djezzy stores are open seven days a week, from 8 a.m. to 8:30 p.m., \\nensuring ac cessibility to customers. To explore new offers for prepaid bonds, users \\ncan dial *720#. Prepaid subscribers seeking credit can obtain it for free by dialing \\n*710# or calling 710 (with a 5 DA charge). For inquiries related to Djezzy \\nEnterprise and VIP, cus tomers can dial 788 from their mobile or fixed phones. \\nErius, an online directory available to professionals and the public, can be accessed \\nby calling 0770850776 or 776 from the Djezzy network. Customer service for \\nprepaid accounts manages various request s, including recharge inquiries and \\nlanguage selection, accessible by calling the Djezzy Particuliers Call Centre at \\n0770857777 or using the available form. Business clients can contact the dedicated \\nclient service team by dialing 0770857788 or using the c lient form. While the \\nprivate call center serves individual clients, the business center caters to Djezzy \\nEnterprises and VIP clients. The availability of assistance for Djezzy Enterprises \\nand VIP clients spans from 8 a.m. to 8:30 p.m. However, customer se rvice for Djezzy \\nPublic and Distributors or Outlets operates 24/7, ensuring support outside regular \\nhours.\" metadata={'document': 'personal account'}\n",
            "page_content=\"The Djezzy code *777# provides users with convenient access to various line \\nmanagement services. By dialing this code, users can perform tasks such as logging \\ninto PIN2, obtaining PUK and account numbers, configuring MMS and internet \\nsettings, and managing  their line in case of loss or theft. Additionally, users can \\ngather information about Ranati and Scoop services. Accessing the *777# menu is \\nas simple as dialing the code on your phone, which presents four options: \\nInformation (PUK), Services (Disconnect/ Reconnect SIM, Ranati, Scoop), \\nConfiguration (MMS/Internet), and Parameters (Language selection). The Services \\noption enables users to decrypt or reconfigure their SIM, manage Ranati and Scoop \\nservices, and configure MMS/internet settings. To access PUK co de or \\ndisconnect/reconnect your line via *777#, you'll need your PIN2 code. Thankfully, \\naccess to the USSD *777# command is free, eliminating any associated charges. \\nUsers can choose their preferred language (French, Arabic, or English) within the \\nmenu by selecting the Parameters option. The benefits of using *777# for line \\nmanagement include increased autonomy, as users can perform tasks withoutcontacting the call center or visiting a service center, as well as the convenience of \\naccessing services free of charge.\" metadata={'document': '*777#'}\n",
            "page_content='To manage Scoop Ramadan services on Djezzy , users have several \\noptions. To disable the service, individuals can send \"UIT\" via SMS to \\n404 or access the Deactivation menu in their device settings. \\nSubscription to Scoop Oum Walid or Oum Yara, catering to Algerian \\nculinary delights, is complimentary,  with both the subscription and SMS \\ncontent coming at no cost. However, sending an SMS or making a call to \\nthe number 404 incurs a charge of 2 DA. To subscribe to Scoop Ramadan \\nand receive its SMS content, users can dial 404 and select their desired \\nScoop subscription or alternatively send an SMS to the same number \\nwith either \"1\" for Scoop Oum Walid or \"2\" for Scoop Oum Yara. During \\nthe holy month of Ramadan, the Djezzy App SCOOP offers users an array \\nof enriching content including morning, daytime, Iftar,  Sohour, and \\nsupper hours, all free of charge and without any subscription \\nrequirements. Additionally, Scoop Ramadan\\'s SMS content consists of a \\ncompilation of traditional Algerian dishes and sweets meticulously \\nprepared by renowned chefs Oum Walid and Oum  Yara, providing users \\nwith a flavorful journey through the culinary delights of Ramadan.' metadata={'document': 'scoop ramadan'}\n",
            "page_content='Ranati Ramadan 2024 provides its subscribers with an array of exciting \\nopportunities. Subscribers can download or gift Ramadan -themed \\ncontent from a diverse catalog and even stand a chance to win an Umrah \\ntrip for two. To join Ranati Ramadan 2024, individuals have multiple \\nentry points: through the Djezzy App (available on Android or App \\nGallery), by dialing *2020#, calling the number 2020, or by sendi ng an \\nSMS with the code of their preferred religious tone to 2020. The service \\noffers various channels for downloading and gifting Ramadan tunes, \\naccessible through Djezzy, by dialing 2020, or via the web portal \\nranati.djezzy.dz. Tones available include a wide range of religious \\ncontent such as duas, hadiths, nassihas, anachides, and specifically \\nRamadan -themed tones. To download or gift a tone, users simply need \\nto dial the code for the selected tone and send it to the specified number. \\nEach tone download or gift costs 50 DA, with an automatic renewal \\nperiod set at 30 days for the validity period, priced at 50 DA per tone. \\nRegistering for Ranati Ramadan 2024 can be done by sending the SMS \\nmessage \"UIT\" to the number 404 or accessing the Deactivation menu by  \\ndialing *154#. Apart from the ability to download or gift Ramadan tunes, \\nsubscribers can engage in weekly contests and have the chance to winthe grand prize of an Umrah trip for two. Additionally, Djezzy Nokta, \\nanother service, offers Algerian content under themes like \"Blague\" \\n(Jokes) and \"Boukala\".' metadata={'document': 'ranati ramadan'}\n",
            "page_content='Djezzy Nokta:  \\n  \\n- **Algerian humorists involved in the theme Blague of Djezzy Nokta**:  \\n  - The Algerian humorists involved in the theme Blague of Djezzy Nokta are Salim \\nAlakou and Djamel Da.  \\n  \\n- **Content of the Boukala theme in Djezzy Nokta**:  \\n  - The theme Boukala of Djezzy Nokta includes content from the Algerian \\nBoukalattes.  \\n  \\n- **Accessing the Djezzy Nokta service**:  \\n  - You can access the Djezzy Nokta service by calling 413 followed by content \\nselection to listen or by sending an SMS to 413 with the code Nokta or Boukala to \\nreceive content in text format.  \\n  \\n- **Cost of a call to the court for Djezzy Nokta and Boukala**:  \\n  - The cost of a call to the court number for Djezzy Nokta is 50 DA per minute at \\nthe first second.  \\n  \\n- **Cost of sending an SMS to receive the content of Djezzy Nokta and Boukala**:  \\n  - SMS sending for receiving the content of Djezzy Nokta costs 40 DA per SMS.  \\n  \\n- **Procedure for receiving the content of Boukala via Djezzy Nokta**:- To receive the content of Boukala in text format via Djezzy Nokta, you can send \\nan SMS to 413 with the code Boukala.  \\n  \\n- **Listening to Algerian humor content on Djezzy Nokta**:  \\n  - Yes, you can listen to Algerian humor content on Djezzy Nokta, including Blague.  \\n  \\n- **Additional charges for calls to the court number of Djezzy Nokta**:  \\n  - Yes, the fees for the Djezzy Nokta court number are 50 DA per minute at the \\nfirst second.  \\n  \\n- **Format of the content in Djezzy Nokta**:  \\n  - The content of Djezzy Nokta is available in both audio format (for calls) and text \\nformat (for SMS).' metadata={'document': 'nokta'}\n",
            "page_content='Game:  \\nVrXperience  offers users two distinct subscription options: the journal \\nsubscription and the home subscription. Subscribing to the VrXperience \\nJour subscription via SMS is simple —just send the code \"Vrj\" to the \\nnumber 734. The tariff for this subscription stands at 1 00 DA for a 7 -day \\nvalidity period, while those seeking free access to VrX Experience can \\nsend the SMS message \"uitvre\" to 734. The VrXperience Jour \\nsubscription provides a 24 -hour validity period at a price of 20 DA. \\nAccess to the VrXperience virtual reali ty video and game library is \\nconveniently available through the VrXperience portal, the Djezzy \\nwebsite, the Djezzy application, and other compatible platforms. \\nSubscription renewal is automated, but users retain the option to \\ndecline renewal. Additionally,  subscribers experiencing insufficient \\ncredit benefit from a 30 -day grace period. Activation of the VrXperience \\nhebdomadaire subscription is achieved by sending the code \"Vrs\" via \\nSMS to 734. VrX Experience distinguishes itself from other leisureservices by offering a digital virtual reality experience with a diverse \\nlibrary of video and game content, promising an immersive experience \\nfor Djezzy users on both Android and iOS devices.' metadata={'document': 'VRxperience'}\n",
            "page_content='Entertainment:  \\nAnghami, offered by Djezzy , is a comprehensive music entertainment \\nservice boasting a vast catalog of over 157 million songs, encompassing \\nboth Arabic and international tracks available for streaming and \\ndownload. Accessible to Djezzy users with Android smartphones, the \\nAnghami ser vice can be reached through multiple channels, including \\nthe web portal, SMS, and mobile applications. Subscribing to Anghami \\nvia SMS is straightforward —simply send a free SMS to 754 with the \\ndesired service code (such as \"jour,\" \"semaine,\" or \"mois\"), or send the \\ncode \"0\" to deactivate the service. Disabling the Anghami SMS service \\nfollows the same process, where users send a free SMS with the code \"0\" \\nto 754. Accessing Anghami through the web is facilitated by connecting \\nto the internet via mobile and vis iting the anghami.com website, using \\nthe Djezzy Internet app on Android or iOS, or downloading the Anghami \\napp from various app stores. Anghami offers three subscription tiers \\nwith corresponding prices: a daily subscription for <50 DA >, a weekly \\nsubscripti on for <200 DA >, and a monthly subscription for < 600 DA >, all \\ninclusive of taxes. The validity period for the Anghami Jour subscription \\nspans 24 hours, while the Anghami Semaine subscription remains valid \\nfor a week, and the Anghami Mois  subscription lasts for 30 days. \\nSubscription codes for SMS activation are as follows: \"1\" for Anghami \\nJour, \"2\" for Anghami Hebdomadaire, and \"3\" for the monthly Anghami \\nsubscription.' metadata={'document': 'anghami'}\n",
            "page_content='YouScribe, brought to you by Djezzy, presents an enticing array of \\nsubscription options finely tuned to cater to users\\' reading preferences. \\nThe pricing structure is designed to be accessible and accommodating:  \\nThe journal subscription to YouScribe  is attractively priced at 70 DA, \\noffering readers a taste of its offerings.  \\nOpting for the monthly subscription provides a comprehensive reading \\nexperience at a cost of 400 DA.  \\nYouScribe prides itself on offering maximum reading comfort through \\nvarious modes, with an extensive catalog comprising over a millionliterary references spanning ebooks, audiobooks, comics, magazines, and \\neducational documents.  \\nSubscribers relish in the luxury of unlimited reading without any \\nintrusive advertising interruptions.  \\nAccessing content on YouScribe is seamlessly convenient —users can \\neffortlessly download books and audiobooks online or via the YouScribe \\napp.  \\nSubscriptions are available in three convenient automatic renewal \\noptions: daily, weekly, and monthly.  \\nSubscribing via SMS is a breeze —users simply send a free SMS to 753 \\nwith the corresponding code (1 for journal, 2 for daily, and 3 for \\nmonthly).  \\nFor hassle -free deactivation, users can send a free SMS containing \"0\" to \\n753.  \\nThrough the internet, users can effortlessly download the YouScribe app \\nvia the link provided on Djezzy\\'s website.  \\nAccessing the YouScribe digital reading portal via the Djezzy App is a \\nstraightforward process involving opening the application, clicking on \\nthe YouScribe banner, and logging in with the phone number and PIN \\ncode received via SMS.  \\nOnce connected, users can seamlessly select their preferred subscription \\noption, re -enter their phone number and PIN code, and proceed with \\nenrollment.  \\nDjezzy\\'s YouScribe subscriptions elevate the reading experience with a \\nunique trial offering, providing a three -day free trial for monthly and \\nquarterly subscriptions, and a complimentary day for journal \\nsubscriptions.' metadata={'document': 'youscribe'}\n",
            "page_content='Game:  \\nAccessing Premium Gaming with Djezzy and Upar couldn\\'t be easier. \\nThrough the Djezzy App on their Android or iOS smartphones, usersseamlessly log in to Upar, unlocking a plethora of options to elevate their \\ngaming escapades:  \\n  \\nOnce logged in, users are presented with an array of subscription \\nchoices, including daily, weekly, monthly subscriptions, and on -demand \\npurchases, tailor -made to suit their gaming preferences.  \\n  \\nTo bid adieu to the Premium Gaming service, users have multiple hassle -\\nfree options: they can simply send the \"STOP\" message to 772, shoot an \\nemail to the provided address, or visit the website via the link \\nhttps://dz.upar.gg.  \\n  \\nAccessing the Upar portal via the Djezzy App is a breeze: users log in to \\ntheir Upar account, select their desired option, input their Djezzy \\nnumber, and confirm their selection.  \\n  \\nSubscription rates for journal, weekly, monthly, and on -demand \\nsubscriptions offer flexibility, ranging from 11 DA to 220 DA for daily \\nsubscriptions, 60 DA to 420 DA for weekly subscriptions, 220 DA to \\n2000 DA for monthly subscriptions, and 60 DA to 320 DA  for on -demand \\npurchases.  \\n  \\nThe Upar portal stands as a digital haven for recharging popular games \\nlike PUBG, Free Fire, and Minecraft, tailored specifically for Djezzy \\nprivate users wielding Android and iOS smartphones.  \\n  \\nUsers can effortlessly access the portal through the website \\nhttps://dz.upar.gg or via the Djezzy App.  \\n  \\nSubscription options on the Upar portal cover a wide spectrum, \\nspanning daily, weekly, monthly subscriptions, and on -demand \\npurchases.  \\n  \\nTo bid farewell to the Upar portal, users can simply send \"STOP\" to 772, \\ndial *154#, or visit the link https://dz.upar.gg.  \\n  \\nSubscription prices are diversified, ranging from 11 DA to 18 DA for \\njournal subscriptions, and from 60 DA to 2000 DA for monthly \\nsubscriptions.  \\n  \\nAs an added bonus, users accumulate points with each subscription, \\nwith varying amounts depending on the subscription type and price, \\nenhancing their gaming experience even further.' metadata={'document': 'premium gaming'}\n",
            "page_content=\"Djezzy's  CLIP+ feature offers users a convenient way to manage missed \\ncalls by providing essential details such as the caller's number, date, and \\ntime of the call, even if they are outside the coverage area, abroad, or if \\ntheir phone is turned off. CLIP+ operates by sending an immediate and \\ncomplimentary SMS notification upon phone activation, containing the \\ncaller's number, call date, time, and the count of missed calls. Activating \\nCLIP+ is a straightforward process: users simply need to make a toll -free \\ncall to 3 33 and select their preferred callback type (occupied, \\nunreachable, unconditional, no response). This service is provided at no \\ncharge to all Djezzy users, with no restrictions on activation, and users \\ncan customize their callback settings according to the ir preferences. \\nCLIP+ works seamlessly across all regions covered by Djezzy's network, \\nand activation is instantaneous after the callback to 333. To confirm if \\nCLIP+ is active, users can test the service by calling their own number \\nand checking for the SMS  notification. Overall, CLIP+ is a free and \\naccessible service designed to enhance the call management experience \\nfor Djezzy users.\" metadata={'document': 'clip+'}\n",
            "page_content=\"To cancel your subscription to the Red List service, simply dial 709 or \\ncall the number 0770850709. Subscription to the Red List is an annual \\ncommitment, lasting 12 months from the month of subscription, with a \\nfee of 500 DA per year for Line, Millennium, Classic, and Residential \\nprofiles. The subscription fees are automatically applied to the next \\ninvoice and are non -refundable. For free profiles, the masquerade \\nservice is pre -activated on the line, requiring no additional \\nconfiguration. However, for paid profiles, activation can be requested by \\ncalling 777 from a Djezzy mobile, dialing 0770 85 77 77 from another \\nmobile or a landline, or contacting the nearest Service Center. Enterprise \\nprofiles are advised to reach out to their Account Manager, dial 788, o r \\nvisit the nearest Service Center for activation. Once the masquerade \\nservice is active, users can hide their number when making a one -time \\ncall by dialing #31# followed by the recipient's number or using the \\nmenu on their device. Notably, accessing and u sing the masquerade \\nservice is entirely free of charge, and no specific device configuration is \\nrequired for its utilization.\" metadata={'document': 'red list'}\n",
            "page_content='In a conference call, participants can engage in simultaneous \\nconversations with multiple interlocutors on the same line, facilitating \\nefficient coordination for work -related discussions or meetings.Participating in a conference call involves activating the feature through \\nDjezzy service centers or call centers. The conference call can \\naccommodate between 3 and 6 participants maximum, allowing for \\nproductive group discussions. Adding a new participant  during an \\nongoing conference call requires ending the current conference and \\ninitiating a new one, then merging the calls together. Similarly, \\ndisconnecting a conference caller entails returning to the participant list \\nand selecting the \"End\" or \"Disconne ct\" option next to their name. \\nMonthly subscription rates for conference calls vary depending on the \\nplan, with a fee of 150 DA for Control 900 and 1900. The benefits of \\nconference calls include the ability to conduct meetings efficiently, share \\ninformatio n with multiple individuals simultaneously, and save time and \\nresources. Managing a conference call involves waiting for participants \\nto join and adding new participants as needed, within the maximum \\nparticipant limit. To join the Djezzy List of Companies,  users can simply \\ndial 709 from a Djezzy mobile device.' metadata={'document': 'conference call'}\n",
            "page_content=\"Djezzy International Service enables users to make international calls \\nfrom their Djezzy line to fixed and mobile lines worldwide. To initiate an \\ninternational call, users need to dial the double check of the country's \\nname along with the phone number. For  instance, to call France, users \\ncan dial 00 or + followed by 33 and then the corresponding phone \\nnumber, such as 06 12689956 without the country code, or \\n+33612689956. This service is automatically activated for businesses, \\nensuring seamless communication  with international partners and \\nclients. For further inquiries or information about the Djezzy \\nInternational Service, users can contact customer service by dialing 788. \\nOverall, the benefits of this service include the ability to communicate \\nglobally with out borders, facilitating international business dealings and \\npersonal connections.\" metadata={'document': 'international service'}\n",
            "page_content=\"The E -Flexy Private Service of Djezzy enables subscribers to transfer \\ncredit between prepaid accounts conveniently through the Mobile Djezzy \\nApp and the Djezzy website. To receive this service, Djezzy Enterprise \\nentities must possess a bank/monster card an d/or EDAHABIA with valid \\ncredentials, own a mobile phone running on Android/iOS operating \\nsystems, and have the Djezzy App installed on their device. The \\nadvantages of Djezzy E -Flexy Private Service are numerous, including \\nenhanced simplicity and convenien ce for private clients, maximum \\nsecurity and confidentiality of electronic recharge transactions, the \\nability to view transaction details within the Djezzy App, flexibility totransfer amounts ranging from 100 DA to 9999 DA, and round -the-clock \\navailability, ensuring accessibility 24/7. Djezzy's E -Flexy service \\nfunctions through two interfaces: the OTA interface for credit card \\napplication, and the CIB  and EDAHABIA.\" metadata={'document': 'E flexy'}\n",
            "page_content=\"Recharge djezzy:  \\nTo recharge your Djezzy line via the Djezzy App, follow these steps:  \\n3. Download or update the Djezzy App on your mobile device.  \\n4. Select the desired amount of recharge from the options provided.  \\n5. Choose the preferred payment platform, either CIB or EDAHABIA.  \\n6. Enter the monographic card numbers associated with your chosen payment \\nplatform.  \\n7. Confirm the recharge by entering the SMS code received via SMS (OTP).  \\n8. Download the recharge receipt for your records.  \\n9. Backup the receipt on your phone for future reference.  \\nTo recharge your Djezzy line via the Djezzy website, follow these steps:  \\n10. Access the E -Flexy interface on Djezzy's website.  \\n11. Enter the phone number you wish to recharge.  \\n12. Select the desired recharge amount.  \\n13. Confirm your acceptance of the terms and conditions.  \\n14. Choose the electronic payment platform, either CIB or EDAHABIA.  \\n15. Complete the transaction on your bank or post office's payment site.  \\n16. Confirm the payment by entering the SMS code received via SMS (OTP).  \\nFor any claims or inquiries regarding the E -Flexy Public Service, you can contact the \\nSATIM appellation centre at 3020 or the Djezzy appellation centre at 0770 85 77 77.  \\nDownloading and storing the receipt/payment ticket is crucial when using the E -Flexy \\nPrivate Service as it serves as tangible and admissible evidence in case of any claims.  \\nThe accepted electronic payment platforms for the E -Flexy Particulier service are CIB \\nand EDAHABIA.  \\nYou can recharge amounts ranging from 100 DA to 9999 DA through the E -Flexy Private \\nservice.\" metadata={'document': 'recharge djezzy'}\n",
            "page_content=\"Flexy of Djezzy is a service available to all Djezzy subscribers, designed to facilitate \\nrecharging desired amounts and paying bills without the need to physically move. The \\nFlexy Code feature in the Djezzy Flexy service enables users to generate an 8 -digit \\nsubstitution code that can be used during recharges.To obtain a Flexy Code with Djezzy, simply dial *765# on your phone. It's important to \\nnote that each user can perform up to five transactions per day using the Flexy Code \\nservice.  \\nTo recharge your number using the Djezzy Flexy service, follow these steps: dial 760 \\nrecipient's number amount PIN# on your phone.  \\nFor paying a bill using the Djezzy Flexy service, follow these steps: dial 761recipient's \\nnumber amount PIN# on your phone.\" metadata={'document': 'flexy'}\n",
            "page_content=\"The Flexily service of Djezzy  offers its subscribers the ability to receive \\nand transfer credit to friends and family for both Djezzy Prepaid and \\nControl subscribers.The maximum amount of credit transfer allowed \\nwith Flexily ranges from 50 to 100 DA.  \\nSubscribers can perform up to 6 credit transfer transactions per day with \\nFlexily.  \\nTo secure credit transfer transactions, Djezzy has implemented a \\nrechargeable PIN code initially set as 00000. Subscribers can change this \\nPIN by dialing 780new PINnew code PINconfirmation#.  \\nTo transfer credit to a friend or family member via mobile phone with \\nFlexily, dial 770recipient's number*recharge code PIN# and press the \\ncall button.  \\nAfter initiating  a credit transfer via SMS, confirmation is completed by \\nresponding to the verification SMS number 1 followed by a second \\nconfirmation SMS indicating the credit shipment.  \\nTo cancel a credit transfer request initiated via SMS, subscribers can \\nreply to the verification SMS provided in question 2.  \\nAn alternative method for credit transfer with Flexily is through the \\nDjezzy Internet application, available on both Android and iOS platforms.  \\nTo check transfer and remaining balances with Flexily, subscribers can \\ndial *775# for free to receive details on transfer and refund amounts.  \\nThe transfer fee for each transfer between 50 and 100 DA with Flexily is \\n10 DA.\" metadata={'document': 'flexily'}\n",
            "page_content='**Djezzy Legend Offer:**Djezzy Legend caters to diverse needs and financial constraints with a variety of \\nwell-designed mobile packages:  \\n  \\n- **2500 DA Recharge**: The premium Djezzy Legend Offer provides 100 GB of \\ninternet, unlimited national calls and Djezzy SMS, and 100 SMS to other national \\nnetworks for 30 days, ensuring ultimate connectivity.  \\n  \\n- **2000 DA Recharge**: This package offers 70 GB of internet, unlimited national \\ncalls, unlimited Djezzy SMS, and 50 SMS to other networks, delivering substantial \\nvalue and communication power.  \\n  \\n- **1500 DA Recharge**: Subscribers receive 40 GB of internet, unlimited Djezzy \\ncalls and SMS, and a 3000 DA credit for 30 days, balancing cost and extensive \\nbenefits.  \\n  \\n- **1000 DA Recharge**: For budget -conscious users, this package supplies 15 GB \\nof internet, unlimited Djezzy calls and SMS, plus a 2000 DA credit, providing great \\nvalue without breaking the bank.  \\n  \\n- **150 DA Recharge**: This economical option unlocks unlimited Facebook and WhatsApp access, \\nalongside unlimited Djezzy calls and SMS for 24 hours,  there is no 2000 da credit for this \\npackage . \\n  \\n- **100 DA Recharge**: This plan offers 1 GB of internet, unlimited Djezzy calls and \\nSMS, and a 300 DA credit for 24 hours, providing a robust short -term solution for \\nminimal spending.  \\n  \\n- **50 DA Recharge**: Perfect for quick, economical connectivity, this option \\nincludes 60 minutes or 1 favorite Djezzy number, with an additional 10 minutes \\ncallback to other networks for 24 hours.  \\n  \\nDjezzy Legend ensures that customers can find a plan that aligns perfectly with \\ntheir financial parameters and usage requirements, offering tailored solutions for \\nevery need.' metadata={'document': 'legend'}\n",
            "page_content=\"**Djezzy Zid Service:**  \\n  \\nDjezzy Zid goes the extra mile to accommodate diverse recharge amounts with an array \\nof enticing perks:  \\n  \\n- **100 DA Recharge**: Starting at a mere 100 DA recharge, Djezzy Zid subscribers \\nunlock a treasure trove of benefits, including 1 GB of internet, a generous 150 DA bonuscredit, and unlimited calls and SMS to Djezzy for a full 24 hours, ensuring every penny is \\nwell spent.  \\n  \\n- **1000 DA Recharge**: Scaling up, a 1000 DA recharge elevates the Djezzy Zid \\nexperience with a substantial 10 GB of internet, a whopping 1300 DA bonus credit, and \\nunlimited Djezzy calls and SMS for an entire month, providing unparalleled value and \\nconnec tivity.  \\n  \\n- **50 DA Recharge**: Even for those opting for a more modest recharge, such as 50 DA, \\nDjezzy Zid doesn't disappoint, granting 500 MB of internet, a handy 50 DA bonus credit, \\nand unlimited Djezzy calls and SMS for a swift 24 -hour burst of connectivity.  \\n  \\n- **200 DA Recharge**: Similarly, a 200 DA recharge amplifies the benefits with 2 GB of \\ninternet, a full 200 DA bonus credit, and unlimited Djezzy calls and SMS for a convenient \\n7-day stretch, ensuring uninterrupted communication without compromise.  \\n  \\n- **400 DA Recharge**: Doubling the recharge amount to 400 DA unleashes a plethora \\nof perks, including 4 GB of internet, a substantial 500 DA bonus credit, and unlimited \\nDjezzy calls and SMS for a comfortable 15 -day period, striking the perfect balance \\nbetween value and convenience.  \\n  \\n- **800 DA Recharge**: And for those seeking the ultimate recharge experience, an 800 \\nDA top -up delivers an impressive 8 GB of internet, a generous 1000 DA bonus credit, \\nand unlimited Djezzy calls and SMS for a full 30 days, ensuring seamless connectivity \\nand communication without boundaries.  \\n  \\nWith this range of flexible Djezzy Zid options, subscribers can tailor their plans precisely \\nto their needs and preferences, ensuring they never have to compromise on \\nconnectivity or value.  \\n  \\nThis is the end of the Djezzy Zid service offer; it cannot be found in any other paragraph.\" metadata={'document': 'zid'}\n",
            "page_content='** Djezzy 3ayla:**  \\n  \\nThe **Djezzy 3ayla** offers a variety of internet packages designed to meet different \\nneeds and budgets:  \\n  \\n- **9990 DA Recharge**:  Djezzy  3ayla for 9990 DA  This top -tier package provides 150 \\nGB of internet for 6 months, along with a 4G modem and internet SIM, ideal for heavy \\nusers.  \\n   \\n- **9000 DA Recharge**:  Djezzy 3ayla  For 9000 DA, you get 60 GB of internet for 3 \\nmonths, plus a 4G modem and internet SIM, perfect for moderate users.- **8500 DA Recharge**:  Djezzy 3ayla for 8500 da  This option gives you 15 GB of \\ninternet for 1 month with a 4G modem and internet SIM, offering a budget -friendly \\nsolution.  \\n  \\n- **4000 DA Recharge**:  Djezzy 3ayla  At 4000 DA, you receive 150 GB of internet for 6 \\nmonths  and you don’t earn 4 g modem , suitable for varied usage needs at an affordable \\nprice.  \\n  \\n- **2500 DA Recharge**:  Djezzy 3ayla for 2500 DA  This package provides 60 GB of \\ninternet for 3 months, balancing cost and internet access for moderate users.  \\n  \\n- **1000 DA Recharge**:  Djezzy 3ayla for 1000 DA  The most economical option, offering \\n15 GB of internet for 1 month, catering to light internet users.  \\n  \\nThese flexible plans allow Djezzy 3ayla subscribers to choose the package that best fits \\ntheir internet usage and budget, ensuring continuous and tailored connectivity.' metadata={'document': '3ayla'}\n",
            "page_content='**Djezzy Comfort PARTAGE** offers versatile internet sharing plans to meet various \\nneeds and budgets:  \\n  \\n1-For monthly fee of 50 DA:  \\n- **Djezzy Comfort PARTAGE -1500**: Share up to 5 GB of internet, ideal for small \\ngroups.  \\n- **Djezzy Comfort PARTAGE -2000**: Share up to 10 GB of internet, doubling the \\nallowance for the same fee.  \\n- **Djezzy Comfort PARTAGE -3000**: Share up to 15 GB of internet, perfect for larger \\ngroups.  \\n  \\n 2- For monthly fee of 150 DA:  \\n- **Djezzy Comfort PARTAGE -1500**:  Share up to 20 GB of internet, suitable for larger \\ngroups or heavy users.  \\n- **Djezzy Comfort PARTAGE -2000**: Share up to 35 GB of internet, catering to more \\nintensive internet use.  \\n- **Djezzy Comfort PARTAGE -3000**: Share up to 60 GB of internet, ideal for large \\nfamilies or businesses.  \\n  \\nThese flexible Djezzy Comfort PARTAGE plans enable subscribers to efficiently manage \\nand distribute internet among multiple users according to their needs and budget, \\nensuring seamless connectivity for all.' metadata={'document': 'comfort partage'}\n",
            "page_content='Djezzy Comfort Service:  \\nDjezzy Comfort offers a range of plans to suit different lifestyles and budgets:• 1500 DA Recharge : Djezzy Comfort  For 1500 DA per month, subscribers get 50 \\nGB of internet, unlimited calls and SMS to Djezzy, and calls and SMS to national \\nand international numbers for 2000 DA. They also receive a personalized Djezzy \\nphone number starting with 0770.  \\n• 2000 DA Recharge : Djezzy Comfort  For 2000 DA per month, subscribers enjoy \\n80 GB of internet, unlimited calls and SMS to Djezzy, and unlimited calls and SMS \\nto national numbers for 4000 DA. They also get 15 minutes of international \\ncalling and a Djezzy phone number starting with 0770.  \\n• 3000 DA Recharge : Djezzy Comfort  For 3000 DA per month, subscribers \\nreceive 150 GB of internet, unlimited calls and SMS to Djezzy, and unlimited calls \\nand SMS to national numbers for 6000 DA. They also get 30 minutes of \\ninternational calling and a Djezzy phone number starting with 0770.  \\nThese Djezzy Comfort plans cater to various usage habits and budget constraints, \\nensuring that every subscriber can find their ideal plan to stay connected.' metadata={'document': 'comfort'}\n",
            "page_content='Djezzy Hayla Maxi Service:  \\nHayla Maxi offers a variety of plans to meet different needs and budgets:  \\n• 2000 DA Recharge : Hayla Max i For 2000 DA per month, subscribers get a 4000 \\nDA credit, unlimited Djezzy calls, and unlimited SMS.  \\n• 1500 DA Recharge : Hayla Maxi  For 1500 DA per month, subscribers receive a \\n2000 DA credit, unlimited Djezzy calls, and unlimited SMS.  \\n• 1200 DA Recharge : Hayla Maxi  For 1200 DA per month, subscribers are \\nprovided with a 1500 DA credit, unlimited Djezzy calls, and unlimited SMS.  \\nHayla Maxi also offers value at lower rates:  \\n• 100 DA Recharge : Hayla Maxi  For 100 DA for a 24 -hour period, subscribers get \\na 150 DA credit, unlimited Djezzy calls, and unlimited SMS.  \\n• 500 DA Recharge : Hayla Maxi For 500 DA for a 7 -day period, subscribers \\nreceive a 750 DA credit, unlimited Djezzy calls, and unlimited SMS.  \\nThese Hayla Maxi plans ensure that subscribers can choose the option that best fits \\ntheir usage and budget, while still enjoying unlimited calls and SMS.  \\n  \\nThis is the end of the Djezzy Hayla Maxi service offer; it cannot be found in any other \\nparagraph.' metadata={'document': 'Maxi'}\n",
            "page_content=\"**Djezzy's Special:**  \\n  \\nDjezzy's Special Offer provides attractive benefits in both prepaid and postpaid options \\nto suit different preferences and usage habits:  \\n  \\n- **Prepaid Option - 2000 DA per month**: For 2000 DA per month, the prepaid plan \\noffers 25 GB of internet, unlimited calls to all national networks, 30 SMS to national \\nnetworks, and unlimited calls to Djezzy.  \\n  \\n- **Postpaid Option - 2000 DA per month**: For the same 2000 DA per month, the \\npostpaid plan offers 40 GB of internet, unlimited calls to all national networks, 30 SMS \\nto national networks, unlimited calls to Djezzy, and a phone number starting with 0770.  \\n  \\nThese Djezzy's Special plans ensure that subscribers can choose the option that best fits \\ntheir needs, whether they prefer the flexibility of prepaid or the added benefits of \\npostpaid, while enjoying generous internet allowances and unlimited calls.\" metadata={'document': 'special'}\n",
            "page_content='**Djezzy Hayla Bezzaf:**  \\n  \\nDjezzy Hayla Bezzaf offers a range of subscription rates, each providing unique benefits tailored to \\ndifferent usage needs:  \\n  \\n- **2000 DA Recharge**:  \\n  - Djezzy Hayla Bezzaf  for 2000 DA you  Enjoy a substantial credit of 7000 DA, along with unlimited \\nDjezzy calls and SMS for a month.  \\n  \\n- **1500 DA Recharge**:  \\n  - Djezzy Hayla Bezzaf for 1500 DA you Receive a credit of 2000 DA, along with unlimited Djezzy calls \\nand SMS.  \\n  \\n- **1200 DA Recharge**:- Djezzy Hayla Bezzaf  for 12 00 DA you Get a credit of 1500 DA monthly, alongside unlimited Djezzy \\ncalls and SMS.  \\n  \\n- **500 DA Recharge**:  \\n  - Djezzy Hayla Bezzaf  for 500 da you Opt for a 15 -day period at 500 DA and receive a credit of 750 \\nDA. \\n  \\n- **150 DA Recharge**:  \\n  - Djezzy Hayla Bezzaf  For 150 DA within a 24 -hour window, enjoy a credit of 300 DA.  \\n  \\n- **100 DA Recharge**:  \\n  - Djezzy Hayla Bezzaf Priced at 100 DA for a 24 -hour period, this option offers a credit of 150 DA.  \\n  \\nThese options ensure that subscribers can find the perfect plan to match their communication needs \\nand budget with Djezzy Hayla Bezzaf.' metadata={'document': 'bezzaf'}\n",
            "page_content='**IZZY Service:**  \\n  \\nIZZY, the youth -centric brand crafted for the digitally connected generation, introduces \\na range of enticing plans packed with benefits:  \\n  \\n- **1200 DA Recharge**: The IZZY 1200 DA Plan (valid for 30 days) offers 10 GB of \\ninternet with unlimited YouTube access, 1000 DA credit, and unlimited calls and SMS to \\nDjezzy, catering to digitally savvy users.  \\n  \\n- **500 DA Recharge**: The IZZY 500 DA Plan (valid for 30 days) includes unlimited \\ncalls and SMS to Djezzy, 5 GB of internet, and the option to share internet with friends, \\npromoting a culture of connectivity and sharing.  \\n  \\n- **300 DA Recharge**: The IZZY 300 DA Plan (valid for 15 days) provides unlimited \\ncalls and SMS to Djezzy, along with 3 GB of internet for seamless connectivity over two \\nweeks.- **50 DA Recharge**: The IZZY 50 DA Offer (valid for 24 hours) ensures connectivity on \\nthe go with unlimited calls and SMS to Djezzy, plus 1 GB of internet for a full day of \\nseamless communication and browsing.  \\n  \\nWith the ZID Option, IZZY subscribers can customize their experience by choosing \\nbetween an 800 DA bonus credit or a 7 GB offer with unlimited access to Facebook and \\nInstagram, or even enjoy free streaming on YouTube, empowering users to tailor their \\nplan to their unique preferences and lifestyle.  \\n  \\nTo explore more about IZZY offerings or to subscribe, users can simply dial *720# or \\naccess the Djezzy application, unlocking a world of connectivity and possibilities at their \\nfingertips.' metadata={'document': 'izzy'}\n",
            "page_content='**Roaming Tunisia Offers:**  \\n  \\nRoaming Tunisia offers various perks at different price points, providing travelers with \\noptions that suit their needs and budget while staying connected abroad.  \\n  \\n- **4000 DA Recharge**: Roaming Tunisia For 4000 DA, subscribers receive 4 GB of \\ninternet, 20 minutes of calls to Djezzy, 20 minutes of received calls, and 30 days validity.  \\n  \\n- **2000 DA Recharge**: Roaming Tunisia At 2000 DA, subscribers get 2 GB of internet \\nwith 15 days validity.  \\n  \\n- **1000 DA Recharge**: Roaming Tunisia Opting for the 1000 DA package provides \\nsubscribers with 1 GB of internet and 7 days validity.  \\n  \\n- **500 DA Recharge**: Roaming Tunisia For 500 DA, subscribers receive 300 MB of \\ninternet with 7 days validity.These Roaming Tunisia options cater to different usage habits and travel durations, \\nensuring that subscribers can stay connected while roaming in Tunisia without \\nexceeding their budget or internet needs.' metadata={'document': 'tunisia'}\n",
            "page_content='**Hadj and omra Service:**  \\n  \\nThe Hadj and omra package offers various benefits at different price points, providing travelers with \\noptions that suit their needs  and budget during their religious pilgrimage.  \\n  \\n- **5000 DA Recharge**: Opting for the 5000 DA Hadj and omra package provides subscribers with 3 \\nGB of internet, 60 minutes of calls to Djezzy, 60 minutes of received calls, and 60 SMS messages, all \\nvalid for 30 days.  \\n  \\n- **3000 DA Recharge**: Hadj and omra  For 3000 DA, subscribers enjoy 3 GB of internet, valid for \\n30 days.  \\n  \\n- **2000 DA Recharge**: Hadj and omra  At 2000 DA, subscribers receive 1 GB of internet, 15 \\nminutes of calls to Djezzy, 30 minutes of received calls, and 30 SMS messages, all valid for 7 days.  \\n  \\n- **1000 DA Recharge**: Hadj and omra  For 1000 DA, subscribers receive 1 GB of internet, valid for \\n7 days.  \\n  \\nThese Hadj and omra  package options cater to different usage habits, travel durations, and budget \\nconstraints, ensuring that subscribers can stay connected during their religious pilgrimage without \\nexceeding their budget or internet needs.' metadata={'document': 'hadj'}\n",
            "page_content=\"Here's the breakdown of benefits for each internet access option:- **30 DA for 24 hours**: 150 MB internet with a 50% discount on the second \\nsubscription, making it available for only 15 DA.  \\n  \\n- **50 DA for 24 hours**: 300 MB internet with a 50% discount on the second \\nsubscription, making it available for only 25 DA.  \\n  \\n- **100 DA for 24 hours**: 1 GB internet with a 50% discount on the second \\nsubscription, making it available for only 50 DA.  \\n  \\n- **150 DA **:  internet access for 150 yous earn  2 GB internet + 500 MB bonus with a 7 -\\nday validity, totaling 2.5 GB, and a 50% discount on the second subscription, making it \\navailable for only 75 DA.  \\n  \\n  \\n- **500 DA **: internet access for 500 DA you earn 6 GB internet + 2 GB bonus with a \\n30-day validity, totaling 8 GB, and a 50% discount on the second subscription, making it \\navailable for only 250 DA.  \\n  \\n- **1000 DA **: internet access for 1000DA you earn 15 GB internet + 2 GB bonus with a \\n30-day validity, totaling 17 GB, and a 50% discount on the second subscription, making \\nit available for only 500 DA.  \\n  \\n- **1500 DA **:  internet access for 1500 da you earn  30 GB internet + 2 GB bonus with a \\n30-day validity, totaling 32 GB, and a 50% discount on the second subscription, making \\nit available for only 750 DA.  \\n  \\n- **2000 DA **: internet access for 2000 da you earn 60 GB internet + 2 GB bonus with a \\n30-day validity, totaling 62 GB, and a 50% discount on the second subscription, making \\nit available for only 1000 DA.These options provide subscribers with flexibility and value -added benefits, ensuring \\nthey can choose the plan that best fits their internet usage needs and budget.\" metadata={'document': 'internet access'}\n",
            "page_content='BIP SMS:  \\nThe BIP SMS service provides two types of SMS: Appelle -moi and Flexyli . \\nTo access this service, dial *100# on your mobile and press \"Apply.\" The \\nservice is valid for 7 days, after which a new quota of 6 SMS is granted. \\nUnused BIP SMS do not carry over to the following week. The service, \\nincluding the sending and receiving of  BIP SMS, is free of charge. \\nHowever, BIP SMS can only be sent within the Djezzy network and are \\nsubject to the same content restrictions as standard SMS. Each week, \\nusers can send up to 6 free SMS to Djezzy numbers, with no option for \\ninternational messag ing.' metadata={'document': 'BIP SMS'}\n",
            "page_content=\"Texting and phising:  \\nSMS phishing, also referred to as SMS scamming, involves sending \\nunsolicited messages to targets in an attempt to manipulate them into \\ntaking harmful actions, like calling premium -rate numbers or divulging \\nsensitive data. These messages can take various fo rms, such as \\nspontaneous texts, false promises of rewards, or messages containing \\ninternet links. Signs of phishing texts include inconvenience to the \\nrecipient, prompts to contact unusual numbers or click dubious links, \\nand offers that seem too good to be  true. Risks associated with SMS \\nphishing include the potential exposure of personal information, \\nunexpected charges for calling premium numbers, and the compromise \\nof device security. To report suspicious SMS messages to Djezzy, it's \\nadvised not to reply to them and instead use the provided reporting \\nform on their website. This action can block the sender and prevent \\nfurther phishing attempts. Protection against SMS phishing involves \\navoiding interaction with suspicious messages, refraining from clicking \\non dubious links, and abstaining from sharing personal details via SMS. \\nAdditionally, installing antivirus software on mobile devices is \\nrecommended for added security. Responding to a phishing SMS could \\nresult in the divulgence of personal data, unexpected  charges on the \\nphone bill, or the installation of malicious software compromising \\ndevice security.\" metadata={'document': 'phishing'}\n",
            "page_content=\"Facebook Flex:  \\nFacebook Flex vous permet de rester connecté gratuitement 24h/24 et \\n7j/7. Avec ce service, offert à tous les abonnés Djezzy, vous pouvez \\ndiscuter, poster, commenter et partager du contenu sans utiliser de \\nforfait internet, sur Facebook et Messenger. Utilis ez Facebook Flex via \\nwww.Facebook.com ou les applications Android Facebook et Messenger. \\nEn mode gratuit, Facebook Flex permet de mettre à jour votre statut, \\naimer, commenter, partager des messages, discuter, poster et partager \\ndu contenu texte, voir les n otifications et publications texte, envoyer des \\ndemandes d'ami, suivre des pages et groupes, et gérer votre compte \\nFacebook. Vous pouvez même acheter une offre Djezzy tout en restant \\nsur Facebook Flex, à condition d'accepter de partager votre numéro de \\ntéléphone portable.\" metadata={'document': 'facebook flex'}\n",
            "page_content='**Address of our stores in Adrar**  \\n- Group 74, Near Souk Dinar Tayeb, Adrar' metadata={'document': 'A propos de djezzy'}\n",
            "page_content='**Address of our stores in Aïn Defla**  \\n- Boulevard Emir Abdelkader, Ain Defla  \\n- Rue Belsaadi Abdelkader, Khemis Meliana, Aïn Defla' metadata={'document': 'A propos de djezzy'}\n",
            "page_content='**Address of our stores in Aïn Témouchent**  \\n- Boulevard du 1er Novembre, No. 19, Ain Témouchent' metadata={'document': 'A propos de djezzy'}\n",
            "page_content='**Address of our stores in Algiers**  \\n- 23, Rue Didouche Mourad, Place Audin, Algiers  \\n- 06, Boulevard Abderrahmane Mira, BEO, Algiers  \\n- Commercial and Leisure Center -Business District - Bab Ezzouar, \\nAlgiers  \\n- Rue Saada Larbi (Ex Gambita) Group 37 No. 10, Bir Mourad Rais, \\nAlgiers  \\n- Place Taleb Mohamed Ameziane, Bir Khadem, Algiers  \\n- 03, Rue Mouloud Feraoun, Dar El Beida, Algiers  \\n- 573 Lot Guéssas, Route de Baba Hassen, Draria, Algiers  \\n- 130 Boulevard Ali KHODJA, El Biar, Algiers  \\n- 03, Rue Ouled Sidi Cheikh, Belfort, El Harrach, Algiers  \\n- 309 Parc Ben Omar, Kouba, Algiers  \\n- 86, Avenue des frères Abdeslami (Ex Lavigerie), Old Kouba, Algiers  \\n- 5, Boulevard Colonel Amirouche, Rouiba, Algiers  \\n- C.E.M Lychly, Staouéli, Algiers  \\n- Houari Boumediene Airport, Terminal 04, Central Hall, Algiers  \\n- Local No. 02 118 rue 01 Novembre Zéralda, Algiers' metadata={'document': 'A propos de djezzy'}\n",
            "page_content='**Address of our stores in Annaba**  \\n- Division 52, Group 62 No. D15, EL Bouni Center, Annaba- 15, Boulevard du 1er Novembre 1954 (Ex Majestic), Annaba' metadata={'document': 'A propos de djezzy'}\n",
            "page_content=\"**Address of our stores in Oran**  \\n- Daya Morsli, Lots 80 and 81, Lot No. 02, Es -Senia, Oran  \\n- Boulevard des Villas (Ex Boulevard Khaled Ibn El -Walid) No. 01 Lot No. \\n02 Aïn Turk, Oran  \\n- 06 Avenue El Qods, No. 18, Arzew, Oran  \\n- Boulevard Fernand Ville, Bir El Djir, Oran  \\n- 31 Placette des Martyrs, Commune of Es Senia, Oran  \\n- 10, Rue de Nancy (Seafront), Oran  \\n- 25 Boulevard Mohamed Khemisti, Commune of Gdyel, Oran  \\n- 31 Boulevard Commandant Ben Adda Benaouda, Plateau/Benaouda, \\nOran  \\n \\n- Boulevard de l'ALN, El Bahia Cooperative Lot No. 06, St Hubert, Oran  \\n- Oran Airport, Central Hall, Es -Senia, Oran\" metadata={'document': 'A propos de djezzy'}\n",
            "page_content=\"**Address of our stores in Skikda**  \\n- 56 Avenue de l'Indépendance, Azzaba, Skikda  \\n- 50, Rue Bachir Boukadoum (opposite CNR), Skikda  \\n- 40 Rue Mégharbi, El Harrouche, Skikda\" metadata={'document': 'A propos de djezzy'}\n",
            "page_content='**Address of our stores in Batna**  \\n- Barika -Center, Barika, Batna  \\n- 55 bis, Route de Biskra, Batna' metadata={'document': 'A propos de djezzy'}\n",
            "page_content='**Address of our stores in Béchar**  \\n- 56, Rue Slimane Belkhedim, Béchar  \\n  \\n**Address of our stores in Béjaïa**  \\n- Rue Aïssat Idir, Guendouza, R.N 26, Akbou, Béjaïa  \\n- Laazib Oumaamar Ihadeden, Béjaïa  \\n- Route Nationale 05, Kherrata, Béjaïa' metadata={'document': 'A propos de djezzy'}\n",
            "page_content='**Address of our stores in Béni Abbès**  \\n- Lotissement Aissat IDIR, Béni Abbès' metadata={'document': 'A propos de djezzy'}\n",
            "page_content='**Address of our stores in Biskra**  \\n- El Khir Shopping Center, 03 avenue frères Saouli, Biskra' metadata={'document': 'A propos de djezzy'}\n",
            "page_content='**Address of our stores in Blida**  \\n- 31, Boulevard Moukhtari, Boufarik, Blida  \\n- 38, Boulevard Larbi Tebessi, place Zabana, Blida  \\n- Mohamed Kébir, Larbâa, Blida' metadata={'document': 'A propos de djezzy'}\n",
            "page_content='**Address of our stores in Bordj Badji Mokhtar**  \\n- Nouvelle Ville, Bordj Badji Mokhtar' metadata={'document': 'A propos de djezzy'}\n",
            "page_content='**Address of our stores in Bordj Bou Arréridj**  \\n- 07, Rue Ramache Aïssa, Bordj Bou Arréridj' metadata={'document': 'A propos de djezzy'}\n",
            "page_content='**Address of our stores in Bouira**  \\n- UNO Shopping Center, Bouira  \\n- Division Lakhdar Chaouche, Class 63, 72 (Rue Zighout Youcef), Bouira' metadata={'document': 'A propos de djezzy'}\n",
            "page_content='**Address of our stores in Boumerdès**  \\n- Cité Deriche No. 24, Lot No. 06, Boumerdès' metadata={'document': 'A propos de djezzy'}\n",
            "page_content='**Address of our stores in Chlef**  \\n- Boulevard Abdelhamid Ben Badis No. 14, Chlef  \\n- Cité 50 Logements, Commune Boukadir, Chlef  \\n- Zone 05 No. 271, Commune Chéttia, Daïra Oulad Farés, Wilaya de Chlef' metadata={'document': 'A propos de djezzy'}\n",
            "page_content=\"**Address of our stores in Constantine**  \\n- 09, Rue Larakeb Ahmed, Sidi Mabrouk, Constantine  \\n- Lotissement Ain En Baye, lot No. 65, ville Ali Mendjli, Constantine  \\n- Commercial Center, Cité 1600 Lgts No. 761, El Khroub, Constantine  \\n- 15, Rue Belouizdad (Ex St Jean), Constantine- Boulevard de l'A.L.N Local A1/A2, Hamma Bouziane, Wilaya de \\nConstantine  \\n- Mohamed Boudiaf Airport, Central Hall, Constantine  \\n- Lot No. 5 -6 Nouvelle Ville Ali Mendjli, El -Khroub, Constantine\" metadata={'document': 'A propos de djezzy'}\n",
            "page_content='**Address of our stores in Djanet**  \\n- Main Boulevard, Nouvelle Ville IDFRI, Djanet' metadata={'document': 'A propos de djezzy'}\n",
            "page_content='**Address of our stores in Djelfa**  \\n- Cité Houari Boumediene, No. 02, Ain Oussara, Djelfa  \\n- Cité Colonel Si El Houasse Bloc 43 No. 07, Hassi Bahbah, Djelfa  \\n- 84, Rue Sidi Naïl, Djelfa' metadata={'document': 'A propos de djezzy'}\n",
            "page_content='**Address of our stores in El Attaf**  \\n- 57, Boulevard Mohamed Khemisti, El Attaf, Aïn Defla' metadata={'document': 'A propos de djezzy'}\n",
            "page_content='**Address of our stores in El Bayadh**  \\n- Rue Brahim Belkacem, Place Emir Abdelkader, El Bayadh' metadata={'document': 'A propos de djezzy'}\n",
            "page_content='**Address of our stores in El Meghier**  \\n- Lot 425, Cité EL SAADA, opposite the main post office, El Meghier' metadata={'document': 'A propos de djezzy'}\n",
            "page_content=\"**Address of our stores in El Menea**  \\n- City Center, El Meniaa  \\n  \\nseparatoor  \\n  \\n**Address of our stores in El Oued**  \\n- Cité l'Asnam, El Oued\" metadata={'document': 'A propos de djezzy'}\n",
            "page_content='**Address of our stores in El Tarf**  \\n- Rue Keddache Messaoud, RN No. 44, El Tarf' metadata={'document': 'A propos de djezzy'}\n",
            "page_content='**Address of our stores in Ghardaïa**  \\n- Rue du 1er Novembre, Thniyet El Makhzen, Ghardaïa  \\n  \\nseparatoor  \\n  \\n**Address of our stores in Guelma**  \\n- 06, Rue Ali Chorfi, Guelma' metadata={'document': 'A propos de djezzy'}\n",
            "page_content='**Address of our stores in Illizi**  \\n- City Center, Illizi  \\n  \\nseparatoor  \\n  \\n**Address of our stores in In Guezzam**  \\n- City Center / APC, In Guezzam' metadata={'document': 'A propos de djezzy'}\n",
            "page_content=\"**Address of our stores in In Salah**  \\n- Lotissement AKBOUR, K'ser EL Mourabitine, In Salahseparatoor  \\n  \\n**Address of our stores in Jijel**  \\n- 01, Boulevard du 1er Novembre 1954, Jijel\" metadata={'document': 'A propos de djezzy'}\n",
            "page_content='**Address of our stores in Mascara**  \\n- Boulevard Mohamed Khemisti, Mascara  \\n- 58, Rue Larbi Ben Mehidi, Mohammadia, Mascara  \\n- Avenue des Martyrs, Tighennif, Mascara' metadata={'document': 'A propos de djezzy'}\n",
            "page_content='**Address of our stores in Médéa**  \\n- 06, Rue Colonel Boukasmi El Tayeb, Médéa  \\n- Local No. 01, cité de la gare, Ksar El Boukhari, Médéa' metadata={'document': 'A propos de djezzy'}\n",
            "page_content='**Address of our stores in Mila**  \\n- Boulevard Zerrouki, Cité des 500 Logements, Mila- Cité BOUNAAS AHMED, Chelghoum El Aïd, Mila' metadata={'document': 'A propos de djezzy'}\n",
            "page_content='**Address of our stores in Mostaganem**  \\n- 33, Rue Benyahia Belkacem, Mostaganem  \\n- Shopping Center/Route de Relizen, Hassi Maameche, Mostaganem' metadata={'document': 'A propos de djezzy'}\n",
            "page_content=\"**Address of our stores in M'Sila**  \\n- Cité Nasr, Lot No. 29, Route de Djelfa, Boussaâda, M'Sila  \\n- Cité des 14 Logements, Promotion Neggaz, M'Sila\" metadata={'document': 'A propos de djezzy'}\n",
            "page_content='**Address of our stores in Nâama**  \\n- Haï Essalem, RN 26, Méchria, Nâama  \\n- Urban Zone, Cité des 540 Logements, Nâama' metadata={'document': 'A propos de djezzy'}\n",
            "page_content='**Address of our stores in Ouargla**- Cité des logements near Société Générale bank, Hassi Messaoud, \\nOuargla  \\n- Cité du 24 Février, Quartier la Silice, Ouargla' metadata={'document': 'A propos de djezzy'}\n",
            "page_content='**Address of our stores in Ouled Djellal**  \\n- Rue 1er Novembre, Ouled Djellal' metadata={'document': 'A propos de djezzy'}\n",
            "page_content='**Address of our stores in Oum El Bouaghi**  \\n- 18, Boulevard du 18 Février, Oum El Bouaghi  \\n- Rue Khafeche Abdellah, Villa No. 3, Aïn El Beïda, Oum El Bouaghi  \\n- 10, Cité 01 Mai, Aïn M’lila, Oum El Bouaghi' metadata={'document': 'A propos de djezzy'}\n",
            "page_content='**Address of our stores in Relizane**  \\n- 08, Boulevard Aoued Ben Djebbar, Relizane  \\n- Avenue des Martyrs, Oued Rhiou, Relizane' metadata={'document': 'A propos de djezzy'}\n",
            "page_content='**Address of our stores in Saïda**- 46, Avenue Ahmed Medeghri, Saïda' metadata={'document': 'A propos de djezzy'}\n",
            "page_content='**Address of our stores in Sétif**  \\n- Cité Hachemi Coopérative el Wafa No. 12, Sétif  \\n- 120, Rue du 1er Novembre 1954, El Eulma, Sétif  \\n- Prombati - Park Mall, Sétif  \\n- 04, Boulevard Aouni Ferradji, Sidi Bouaroua, Sétif' metadata={'document': 'A propos de djezzy'}\n",
            "page_content='**Address of our stores in Sidi Bel Abbes**  \\n- 21, Avenue de la République, Sidi Bel Abbes' metadata={'document': 'A propos de djezzy'}\n",
            "page_content=\"**Address of our stores in Sig**  \\n- 47, Boulevard de la Révolution, Sig, Mascara  \\n  \\n**Address of our stores in Souk Ahras**  \\n- Route de Tifache, No. 01, Souk Ahras**Address of our stores in Tamanrasset**  \\n- Quartier Sersouf, Tamanrasset  \\n  \\n**Address of our stores in Tébessa**  \\n- Rond point de Tébessa, Rue Djebel El Djorf, Tébessa  \\n  \\n**Address of our stores in Tiaret**  \\n- 06, Avenue Ben Badis, Tiaret  \\n  \\n**Address of our stores in Timimoun**  \\n- Rue Zita Miloud, Timimoun  \\n  \\n**Address of our stores in Tindouf**  \\n- Cité El Kassabi, No. 05, Tindouf  \\n  \\n**Address of our stores in Tipaza**  \\n- 01, Rue du Stade, Tipaza  \\n  \\n**Address of our stores in Tissemsilt**  \\n- Cité des 132 Logements, No. 133, Tissemsilt  \\n  \\n**Address of our stores in Tizi Ouzou**  \\n- Lotissement A, Boulevard Ahmed ZAIDAT No. 3, Azazga, Tizi Ouzou- Tour Ali OUARAB, Boulevard Krim Belkacem, Nouvelle Ville, Tizi Ouzou  \\n  \\n**Address of our stores in Tlemcen**  \\n- 06, Avenue El Qods, No. 18, Kifan, Tlemcen  \\n- 18, Boulevard de l'Indépendance, Tlemcen  \\n- Local No. 01/House No. 06, Rue MOHAMED KHEMISTI, Cité DARI \\nOUASSINI/Lot 157, Property No. 35, Maghnia, Tlemcen  \\n  \\n**Address of our stores in Touggourt**  \\n- Place El Houria, Lot No. 746, Touggourt\" metadata={'document': 'A propos de djezzy'}\n"
          ]
        }
      ],
      "source": [
        "i=0\n",
        "for d in tokens_chunks:\n",
        "\n",
        " d.metadata=metadatas[i]\n",
        " i=i+1\n",
        " print(d)\n"
      ]
    },
    {
      "cell_type": "markdown",
      "metadata": {
        "id": "2ppgevN4InVR"
      },
      "source": [
        "Vector Stores | FAISS"
      ]
    },
    {
      "cell_type": "code",
      "execution_count": null,
      "metadata": {
        "id": "i86xLAh8nnBx"
      },
      "outputs": [],
      "source": [
        "from langchain.vectorstores import FAISS\n",
        "vector_db = FAISS.from_documents(tokens_chunks, embedding_llm)"
      ]
    },
    {
      "cell_type": "markdown",
      "metadata": {
        "id": "7IoHSU6ZIqm3"
      },
      "source": [
        "save the table that contains the paragraphs of our data and also the table that contains the embedding of these paragraphs"
      ]
    },
    {
      "cell_type": "code",
      "execution_count": null,
      "metadata": {
        "id": "RTEce17Knqjj"
      },
      "outputs": [],
      "source": [
        "import json\n",
        "\n",
        "\n",
        "docs_text = [ chunk.page_content for chunk in tokens_chunks ]\n",
        "docs_embeddings = embedding_llm.embed_documents(docs_text)\n",
        "\n",
        "\n",
        "with open('docs_text.json', 'w', encoding='utf-8') as f:\n",
        "    json.dump(docs_text, f, ensure_ascii=False, indent=4)\n",
        "\n",
        "\n",
        "with open('docs_embeddings.json', 'w', encoding='utf-8') as f:\n",
        "    json.dump(docs_embeddings, f, ensure_ascii=False, indent=4)"
      ]
    },
    {
      "cell_type": "markdown",
      "metadata": {
        "id": "6s3QR-YOJOQo"
      },
      "source": [
        "load vector representation"
      ]
    },
    {
      "cell_type": "code",
      "execution_count": null,
      "metadata": {
        "colab": {
          "base_uri": "https://localhost:8080/"
        },
        "id": "BwRqRnLKuJNq",
        "outputId": "848061fb-8945-48eb-d5e8-0942ab08eff7"
      },
      "outputs": [
        {
          "data": {
            "text/plain": [
              "True"
            ]
          },
          "execution_count": 18,
          "metadata": {},
          "output_type": "execute_result"
        }
      ],
      "source": [
        "\n",
        "\n",
        "vector_db.save_local(\"d\")\n",
        "\n",
        "# Check if the file has been saved\n",
        "os.path.exists(\"d\")"
      ]
    }
  ],
  "metadata": {
    "colab": {
      "provenance": []
    },
    "kernelspec": {
      "display_name": "Python 3",
      "name": "python3"
    },
    "language_info": {
      "name": "python"
    }
  },
  "nbformat": 4,
  "nbformat_minor": 0
}
